{
  "nbformat": 4,
  "nbformat_minor": 0,
  "metadata": {
    "colab": {
      "provenance": [],
      "collapsed_sections": [],
      "include_colab_link": true
    },
    "kernelspec": {
      "display_name": "Python 3",
      "name": "python3"
    },
    "language_info": {
      "name": "python"
    },
    "widgets": {
      "application/vnd.jupyter.widget-state+json": {
        "15a7874bc92e47cb9f64d59b322a56f4": {
          "model_module": "@jupyter-widgets/controls",
          "model_name": "HBoxModel",
          "model_module_version": "1.5.0",
          "state": {
            "_view_name": "HBoxView",
            "_dom_classes": [],
            "_model_name": "HBoxModel",
            "_view_module": "@jupyter-widgets/controls",
            "_model_module_version": "1.5.0",
            "_view_count": null,
            "_view_module_version": "1.5.0",
            "box_style": "",
            "layout": "IPY_MODEL_16713c35a76a472fa3f3729669482696",
            "_model_module": "@jupyter-widgets/controls",
            "children": [
              "IPY_MODEL_4a59ac4074fb47cfbdd567473494506e",
              "IPY_MODEL_a2aa9411100a41b2a5c28516a7c64b78",
              "IPY_MODEL_4046ebad019642dcb75fdd3da111f3a0"
            ]
          }
        },
        "16713c35a76a472fa3f3729669482696": {
          "model_module": "@jupyter-widgets/base",
          "model_name": "LayoutModel",
          "model_module_version": "1.2.0",
          "state": {
            "_view_name": "LayoutView",
            "grid_template_rows": null,
            "right": null,
            "justify_content": null,
            "_view_module": "@jupyter-widgets/base",
            "overflow": null,
            "_model_module_version": "1.2.0",
            "_view_count": null,
            "flex_flow": null,
            "width": null,
            "min_width": null,
            "border": null,
            "align_items": null,
            "bottom": null,
            "_model_module": "@jupyter-widgets/base",
            "top": null,
            "grid_column": null,
            "overflow_y": null,
            "overflow_x": null,
            "grid_auto_flow": null,
            "grid_area": null,
            "grid_template_columns": null,
            "flex": null,
            "_model_name": "LayoutModel",
            "justify_items": null,
            "grid_row": null,
            "max_height": null,
            "align_content": null,
            "visibility": null,
            "align_self": null,
            "height": null,
            "min_height": null,
            "padding": null,
            "grid_auto_rows": null,
            "grid_gap": null,
            "max_width": null,
            "order": null,
            "_view_module_version": "1.2.0",
            "grid_template_areas": null,
            "object_position": null,
            "object_fit": null,
            "grid_auto_columns": null,
            "margin": null,
            "display": null,
            "left": null
          }
        },
        "4a59ac4074fb47cfbdd567473494506e": {
          "model_module": "@jupyter-widgets/controls",
          "model_name": "HTMLModel",
          "model_module_version": "1.5.0",
          "state": {
            "_view_name": "HTMLView",
            "style": "IPY_MODEL_fe1175cd961f4a3eae8c6ee0c0d6555d",
            "_dom_classes": [],
            "description": "",
            "_model_name": "HTMLModel",
            "placeholder": "​",
            "_view_module": "@jupyter-widgets/controls",
            "_model_module_version": "1.5.0",
            "value": "",
            "_view_count": null,
            "_view_module_version": "1.5.0",
            "description_tooltip": null,
            "_model_module": "@jupyter-widgets/controls",
            "layout": "IPY_MODEL_25539dbd7da84af7b33eb05c2b49d2d3"
          }
        },
        "a2aa9411100a41b2a5c28516a7c64b78": {
          "model_module": "@jupyter-widgets/controls",
          "model_name": "FloatProgressModel",
          "model_module_version": "1.5.0",
          "state": {
            "_view_name": "ProgressView",
            "style": "IPY_MODEL_cf08761ed47b4aa4af41e305e68fa20b",
            "_dom_classes": [],
            "description": "",
            "_model_name": "FloatProgressModel",
            "bar_style": "success",
            "max": 9912422,
            "_view_module": "@jupyter-widgets/controls",
            "_model_module_version": "1.5.0",
            "value": 9912422,
            "_view_count": null,
            "_view_module_version": "1.5.0",
            "orientation": "horizontal",
            "min": 0,
            "description_tooltip": null,
            "_model_module": "@jupyter-widgets/controls",
            "layout": "IPY_MODEL_44f900c8ce394006be0e5cf146ae1b73"
          }
        },
        "4046ebad019642dcb75fdd3da111f3a0": {
          "model_module": "@jupyter-widgets/controls",
          "model_name": "HTMLModel",
          "model_module_version": "1.5.0",
          "state": {
            "_view_name": "HTMLView",
            "style": "IPY_MODEL_eba9e9eb776d4b2eb59711023ed52f4d",
            "_dom_classes": [],
            "description": "",
            "_model_name": "HTMLModel",
            "placeholder": "​",
            "_view_module": "@jupyter-widgets/controls",
            "_model_module_version": "1.5.0",
            "value": " 9913344/? [00:00&lt;00:00, 30923207.50it/s]",
            "_view_count": null,
            "_view_module_version": "1.5.0",
            "description_tooltip": null,
            "_model_module": "@jupyter-widgets/controls",
            "layout": "IPY_MODEL_0149b60594b549fe8e68d50f2a9d457a"
          }
        },
        "fe1175cd961f4a3eae8c6ee0c0d6555d": {
          "model_module": "@jupyter-widgets/controls",
          "model_name": "DescriptionStyleModel",
          "model_module_version": "1.5.0",
          "state": {
            "_view_name": "StyleView",
            "_model_name": "DescriptionStyleModel",
            "description_width": "",
            "_view_module": "@jupyter-widgets/base",
            "_model_module_version": "1.5.0",
            "_view_count": null,
            "_view_module_version": "1.2.0",
            "_model_module": "@jupyter-widgets/controls"
          }
        },
        "25539dbd7da84af7b33eb05c2b49d2d3": {
          "model_module": "@jupyter-widgets/base",
          "model_name": "LayoutModel",
          "model_module_version": "1.2.0",
          "state": {
            "_view_name": "LayoutView",
            "grid_template_rows": null,
            "right": null,
            "justify_content": null,
            "_view_module": "@jupyter-widgets/base",
            "overflow": null,
            "_model_module_version": "1.2.0",
            "_view_count": null,
            "flex_flow": null,
            "width": null,
            "min_width": null,
            "border": null,
            "align_items": null,
            "bottom": null,
            "_model_module": "@jupyter-widgets/base",
            "top": null,
            "grid_column": null,
            "overflow_y": null,
            "overflow_x": null,
            "grid_auto_flow": null,
            "grid_area": null,
            "grid_template_columns": null,
            "flex": null,
            "_model_name": "LayoutModel",
            "justify_items": null,
            "grid_row": null,
            "max_height": null,
            "align_content": null,
            "visibility": null,
            "align_self": null,
            "height": null,
            "min_height": null,
            "padding": null,
            "grid_auto_rows": null,
            "grid_gap": null,
            "max_width": null,
            "order": null,
            "_view_module_version": "1.2.0",
            "grid_template_areas": null,
            "object_position": null,
            "object_fit": null,
            "grid_auto_columns": null,
            "margin": null,
            "display": null,
            "left": null
          }
        },
        "cf08761ed47b4aa4af41e305e68fa20b": {
          "model_module": "@jupyter-widgets/controls",
          "model_name": "ProgressStyleModel",
          "model_module_version": "1.5.0",
          "state": {
            "_view_name": "StyleView",
            "_model_name": "ProgressStyleModel",
            "description_width": "",
            "_view_module": "@jupyter-widgets/base",
            "_model_module_version": "1.5.0",
            "_view_count": null,
            "_view_module_version": "1.2.0",
            "bar_color": null,
            "_model_module": "@jupyter-widgets/controls"
          }
        },
        "44f900c8ce394006be0e5cf146ae1b73": {
          "model_module": "@jupyter-widgets/base",
          "model_name": "LayoutModel",
          "model_module_version": "1.2.0",
          "state": {
            "_view_name": "LayoutView",
            "grid_template_rows": null,
            "right": null,
            "justify_content": null,
            "_view_module": "@jupyter-widgets/base",
            "overflow": null,
            "_model_module_version": "1.2.0",
            "_view_count": null,
            "flex_flow": null,
            "width": null,
            "min_width": null,
            "border": null,
            "align_items": null,
            "bottom": null,
            "_model_module": "@jupyter-widgets/base",
            "top": null,
            "grid_column": null,
            "overflow_y": null,
            "overflow_x": null,
            "grid_auto_flow": null,
            "grid_area": null,
            "grid_template_columns": null,
            "flex": null,
            "_model_name": "LayoutModel",
            "justify_items": null,
            "grid_row": null,
            "max_height": null,
            "align_content": null,
            "visibility": null,
            "align_self": null,
            "height": null,
            "min_height": null,
            "padding": null,
            "grid_auto_rows": null,
            "grid_gap": null,
            "max_width": null,
            "order": null,
            "_view_module_version": "1.2.0",
            "grid_template_areas": null,
            "object_position": null,
            "object_fit": null,
            "grid_auto_columns": null,
            "margin": null,
            "display": null,
            "left": null
          }
        },
        "eba9e9eb776d4b2eb59711023ed52f4d": {
          "model_module": "@jupyter-widgets/controls",
          "model_name": "DescriptionStyleModel",
          "model_module_version": "1.5.0",
          "state": {
            "_view_name": "StyleView",
            "_model_name": "DescriptionStyleModel",
            "description_width": "",
            "_view_module": "@jupyter-widgets/base",
            "_model_module_version": "1.5.0",
            "_view_count": null,
            "_view_module_version": "1.2.0",
            "_model_module": "@jupyter-widgets/controls"
          }
        },
        "0149b60594b549fe8e68d50f2a9d457a": {
          "model_module": "@jupyter-widgets/base",
          "model_name": "LayoutModel",
          "model_module_version": "1.2.0",
          "state": {
            "_view_name": "LayoutView",
            "grid_template_rows": null,
            "right": null,
            "justify_content": null,
            "_view_module": "@jupyter-widgets/base",
            "overflow": null,
            "_model_module_version": "1.2.0",
            "_view_count": null,
            "flex_flow": null,
            "width": null,
            "min_width": null,
            "border": null,
            "align_items": null,
            "bottom": null,
            "_model_module": "@jupyter-widgets/base",
            "top": null,
            "grid_column": null,
            "overflow_y": null,
            "overflow_x": null,
            "grid_auto_flow": null,
            "grid_area": null,
            "grid_template_columns": null,
            "flex": null,
            "_model_name": "LayoutModel",
            "justify_items": null,
            "grid_row": null,
            "max_height": null,
            "align_content": null,
            "visibility": null,
            "align_self": null,
            "height": null,
            "min_height": null,
            "padding": null,
            "grid_auto_rows": null,
            "grid_gap": null,
            "max_width": null,
            "order": null,
            "_view_module_version": "1.2.0",
            "grid_template_areas": null,
            "object_position": null,
            "object_fit": null,
            "grid_auto_columns": null,
            "margin": null,
            "display": null,
            "left": null
          }
        },
        "48be868e126241b6a1527d0056b23664": {
          "model_module": "@jupyter-widgets/controls",
          "model_name": "HBoxModel",
          "model_module_version": "1.5.0",
          "state": {
            "_view_name": "HBoxView",
            "_dom_classes": [],
            "_model_name": "HBoxModel",
            "_view_module": "@jupyter-widgets/controls",
            "_model_module_version": "1.5.0",
            "_view_count": null,
            "_view_module_version": "1.5.0",
            "box_style": "",
            "layout": "IPY_MODEL_9e8c8fa8cae4441c86c67563b0d8498d",
            "_model_module": "@jupyter-widgets/controls",
            "children": [
              "IPY_MODEL_c6751aeb41cc4ae9a92a6e2feb6e5ee8",
              "IPY_MODEL_033030a236e84b1da755451a6032ca3a",
              "IPY_MODEL_cf443924097544b08ecbdc043521201c"
            ]
          }
        },
        "9e8c8fa8cae4441c86c67563b0d8498d": {
          "model_module": "@jupyter-widgets/base",
          "model_name": "LayoutModel",
          "model_module_version": "1.2.0",
          "state": {
            "_view_name": "LayoutView",
            "grid_template_rows": null,
            "right": null,
            "justify_content": null,
            "_view_module": "@jupyter-widgets/base",
            "overflow": null,
            "_model_module_version": "1.2.0",
            "_view_count": null,
            "flex_flow": null,
            "width": null,
            "min_width": null,
            "border": null,
            "align_items": null,
            "bottom": null,
            "_model_module": "@jupyter-widgets/base",
            "top": null,
            "grid_column": null,
            "overflow_y": null,
            "overflow_x": null,
            "grid_auto_flow": null,
            "grid_area": null,
            "grid_template_columns": null,
            "flex": null,
            "_model_name": "LayoutModel",
            "justify_items": null,
            "grid_row": null,
            "max_height": null,
            "align_content": null,
            "visibility": null,
            "align_self": null,
            "height": null,
            "min_height": null,
            "padding": null,
            "grid_auto_rows": null,
            "grid_gap": null,
            "max_width": null,
            "order": null,
            "_view_module_version": "1.2.0",
            "grid_template_areas": null,
            "object_position": null,
            "object_fit": null,
            "grid_auto_columns": null,
            "margin": null,
            "display": null,
            "left": null
          }
        },
        "c6751aeb41cc4ae9a92a6e2feb6e5ee8": {
          "model_module": "@jupyter-widgets/controls",
          "model_name": "HTMLModel",
          "model_module_version": "1.5.0",
          "state": {
            "_view_name": "HTMLView",
            "style": "IPY_MODEL_5b963020060549e0b986b0c295e7922a",
            "_dom_classes": [],
            "description": "",
            "_model_name": "HTMLModel",
            "placeholder": "​",
            "_view_module": "@jupyter-widgets/controls",
            "_model_module_version": "1.5.0",
            "value": "",
            "_view_count": null,
            "_view_module_version": "1.5.0",
            "description_tooltip": null,
            "_model_module": "@jupyter-widgets/controls",
            "layout": "IPY_MODEL_7cee7071d5c2443b80e9f9059fcb7f18"
          }
        },
        "033030a236e84b1da755451a6032ca3a": {
          "model_module": "@jupyter-widgets/controls",
          "model_name": "FloatProgressModel",
          "model_module_version": "1.5.0",
          "state": {
            "_view_name": "ProgressView",
            "style": "IPY_MODEL_2bfb813dea114fcd9c7db1a655cdc095",
            "_dom_classes": [],
            "description": "",
            "_model_name": "FloatProgressModel",
            "bar_style": "success",
            "max": 28881,
            "_view_module": "@jupyter-widgets/controls",
            "_model_module_version": "1.5.0",
            "value": 28881,
            "_view_count": null,
            "_view_module_version": "1.5.0",
            "orientation": "horizontal",
            "min": 0,
            "description_tooltip": null,
            "_model_module": "@jupyter-widgets/controls",
            "layout": "IPY_MODEL_80e9f58c596342c385323afb4aec6377"
          }
        },
        "cf443924097544b08ecbdc043521201c": {
          "model_module": "@jupyter-widgets/controls",
          "model_name": "HTMLModel",
          "model_module_version": "1.5.0",
          "state": {
            "_view_name": "HTMLView",
            "style": "IPY_MODEL_84eb21d3a3494a5bb7114ed4a882193d",
            "_dom_classes": [],
            "description": "",
            "_model_name": "HTMLModel",
            "placeholder": "​",
            "_view_module": "@jupyter-widgets/controls",
            "_model_module_version": "1.5.0",
            "value": " 29696/? [00:00&lt;00:00, 664174.92it/s]",
            "_view_count": null,
            "_view_module_version": "1.5.0",
            "description_tooltip": null,
            "_model_module": "@jupyter-widgets/controls",
            "layout": "IPY_MODEL_2e4032e828864ed2b133121bd4431080"
          }
        },
        "5b963020060549e0b986b0c295e7922a": {
          "model_module": "@jupyter-widgets/controls",
          "model_name": "DescriptionStyleModel",
          "model_module_version": "1.5.0",
          "state": {
            "_view_name": "StyleView",
            "_model_name": "DescriptionStyleModel",
            "description_width": "",
            "_view_module": "@jupyter-widgets/base",
            "_model_module_version": "1.5.0",
            "_view_count": null,
            "_view_module_version": "1.2.0",
            "_model_module": "@jupyter-widgets/controls"
          }
        },
        "7cee7071d5c2443b80e9f9059fcb7f18": {
          "model_module": "@jupyter-widgets/base",
          "model_name": "LayoutModel",
          "model_module_version": "1.2.0",
          "state": {
            "_view_name": "LayoutView",
            "grid_template_rows": null,
            "right": null,
            "justify_content": null,
            "_view_module": "@jupyter-widgets/base",
            "overflow": null,
            "_model_module_version": "1.2.0",
            "_view_count": null,
            "flex_flow": null,
            "width": null,
            "min_width": null,
            "border": null,
            "align_items": null,
            "bottom": null,
            "_model_module": "@jupyter-widgets/base",
            "top": null,
            "grid_column": null,
            "overflow_y": null,
            "overflow_x": null,
            "grid_auto_flow": null,
            "grid_area": null,
            "grid_template_columns": null,
            "flex": null,
            "_model_name": "LayoutModel",
            "justify_items": null,
            "grid_row": null,
            "max_height": null,
            "align_content": null,
            "visibility": null,
            "align_self": null,
            "height": null,
            "min_height": null,
            "padding": null,
            "grid_auto_rows": null,
            "grid_gap": null,
            "max_width": null,
            "order": null,
            "_view_module_version": "1.2.0",
            "grid_template_areas": null,
            "object_position": null,
            "object_fit": null,
            "grid_auto_columns": null,
            "margin": null,
            "display": null,
            "left": null
          }
        },
        "2bfb813dea114fcd9c7db1a655cdc095": {
          "model_module": "@jupyter-widgets/controls",
          "model_name": "ProgressStyleModel",
          "model_module_version": "1.5.0",
          "state": {
            "_view_name": "StyleView",
            "_model_name": "ProgressStyleModel",
            "description_width": "",
            "_view_module": "@jupyter-widgets/base",
            "_model_module_version": "1.5.0",
            "_view_count": null,
            "_view_module_version": "1.2.0",
            "bar_color": null,
            "_model_module": "@jupyter-widgets/controls"
          }
        },
        "80e9f58c596342c385323afb4aec6377": {
          "model_module": "@jupyter-widgets/base",
          "model_name": "LayoutModel",
          "model_module_version": "1.2.0",
          "state": {
            "_view_name": "LayoutView",
            "grid_template_rows": null,
            "right": null,
            "justify_content": null,
            "_view_module": "@jupyter-widgets/base",
            "overflow": null,
            "_model_module_version": "1.2.0",
            "_view_count": null,
            "flex_flow": null,
            "width": null,
            "min_width": null,
            "border": null,
            "align_items": null,
            "bottom": null,
            "_model_module": "@jupyter-widgets/base",
            "top": null,
            "grid_column": null,
            "overflow_y": null,
            "overflow_x": null,
            "grid_auto_flow": null,
            "grid_area": null,
            "grid_template_columns": null,
            "flex": null,
            "_model_name": "LayoutModel",
            "justify_items": null,
            "grid_row": null,
            "max_height": null,
            "align_content": null,
            "visibility": null,
            "align_self": null,
            "height": null,
            "min_height": null,
            "padding": null,
            "grid_auto_rows": null,
            "grid_gap": null,
            "max_width": null,
            "order": null,
            "_view_module_version": "1.2.0",
            "grid_template_areas": null,
            "object_position": null,
            "object_fit": null,
            "grid_auto_columns": null,
            "margin": null,
            "display": null,
            "left": null
          }
        },
        "84eb21d3a3494a5bb7114ed4a882193d": {
          "model_module": "@jupyter-widgets/controls",
          "model_name": "DescriptionStyleModel",
          "model_module_version": "1.5.0",
          "state": {
            "_view_name": "StyleView",
            "_model_name": "DescriptionStyleModel",
            "description_width": "",
            "_view_module": "@jupyter-widgets/base",
            "_model_module_version": "1.5.0",
            "_view_count": null,
            "_view_module_version": "1.2.0",
            "_model_module": "@jupyter-widgets/controls"
          }
        },
        "2e4032e828864ed2b133121bd4431080": {
          "model_module": "@jupyter-widgets/base",
          "model_name": "LayoutModel",
          "model_module_version": "1.2.0",
          "state": {
            "_view_name": "LayoutView",
            "grid_template_rows": null,
            "right": null,
            "justify_content": null,
            "_view_module": "@jupyter-widgets/base",
            "overflow": null,
            "_model_module_version": "1.2.0",
            "_view_count": null,
            "flex_flow": null,
            "width": null,
            "min_width": null,
            "border": null,
            "align_items": null,
            "bottom": null,
            "_model_module": "@jupyter-widgets/base",
            "top": null,
            "grid_column": null,
            "overflow_y": null,
            "overflow_x": null,
            "grid_auto_flow": null,
            "grid_area": null,
            "grid_template_columns": null,
            "flex": null,
            "_model_name": "LayoutModel",
            "justify_items": null,
            "grid_row": null,
            "max_height": null,
            "align_content": null,
            "visibility": null,
            "align_self": null,
            "height": null,
            "min_height": null,
            "padding": null,
            "grid_auto_rows": null,
            "grid_gap": null,
            "max_width": null,
            "order": null,
            "_view_module_version": "1.2.0",
            "grid_template_areas": null,
            "object_position": null,
            "object_fit": null,
            "grid_auto_columns": null,
            "margin": null,
            "display": null,
            "left": null
          }
        },
        "eaf9c0c375f04a89b33b23b6fc61db60": {
          "model_module": "@jupyter-widgets/controls",
          "model_name": "HBoxModel",
          "model_module_version": "1.5.0",
          "state": {
            "_view_name": "HBoxView",
            "_dom_classes": [],
            "_model_name": "HBoxModel",
            "_view_module": "@jupyter-widgets/controls",
            "_model_module_version": "1.5.0",
            "_view_count": null,
            "_view_module_version": "1.5.0",
            "box_style": "",
            "layout": "IPY_MODEL_dee13740f7eb4f999c2f82309c342642",
            "_model_module": "@jupyter-widgets/controls",
            "children": [
              "IPY_MODEL_2ac373be6c0140caa937f6358952e3c6",
              "IPY_MODEL_d49354b8c9994af29a653b9defbfa301",
              "IPY_MODEL_a771f288b2e04ca1950b55b56e5bf15f"
            ]
          }
        },
        "dee13740f7eb4f999c2f82309c342642": {
          "model_module": "@jupyter-widgets/base",
          "model_name": "LayoutModel",
          "model_module_version": "1.2.0",
          "state": {
            "_view_name": "LayoutView",
            "grid_template_rows": null,
            "right": null,
            "justify_content": null,
            "_view_module": "@jupyter-widgets/base",
            "overflow": null,
            "_model_module_version": "1.2.0",
            "_view_count": null,
            "flex_flow": null,
            "width": null,
            "min_width": null,
            "border": null,
            "align_items": null,
            "bottom": null,
            "_model_module": "@jupyter-widgets/base",
            "top": null,
            "grid_column": null,
            "overflow_y": null,
            "overflow_x": null,
            "grid_auto_flow": null,
            "grid_area": null,
            "grid_template_columns": null,
            "flex": null,
            "_model_name": "LayoutModel",
            "justify_items": null,
            "grid_row": null,
            "max_height": null,
            "align_content": null,
            "visibility": null,
            "align_self": null,
            "height": null,
            "min_height": null,
            "padding": null,
            "grid_auto_rows": null,
            "grid_gap": null,
            "max_width": null,
            "order": null,
            "_view_module_version": "1.2.0",
            "grid_template_areas": null,
            "object_position": null,
            "object_fit": null,
            "grid_auto_columns": null,
            "margin": null,
            "display": null,
            "left": null
          }
        },
        "2ac373be6c0140caa937f6358952e3c6": {
          "model_module": "@jupyter-widgets/controls",
          "model_name": "HTMLModel",
          "model_module_version": "1.5.0",
          "state": {
            "_view_name": "HTMLView",
            "style": "IPY_MODEL_8d746b2b10e24c30975f2693c9e925f8",
            "_dom_classes": [],
            "description": "",
            "_model_name": "HTMLModel",
            "placeholder": "​",
            "_view_module": "@jupyter-widgets/controls",
            "_model_module_version": "1.5.0",
            "value": "",
            "_view_count": null,
            "_view_module_version": "1.5.0",
            "description_tooltip": null,
            "_model_module": "@jupyter-widgets/controls",
            "layout": "IPY_MODEL_ec3366cad62741bfa90a1775a15f7ea8"
          }
        },
        "d49354b8c9994af29a653b9defbfa301": {
          "model_module": "@jupyter-widgets/controls",
          "model_name": "FloatProgressModel",
          "model_module_version": "1.5.0",
          "state": {
            "_view_name": "ProgressView",
            "style": "IPY_MODEL_afaf227a03cf467ca6cc431df24620f1",
            "_dom_classes": [],
            "description": "",
            "_model_name": "FloatProgressModel",
            "bar_style": "success",
            "max": 1648877,
            "_view_module": "@jupyter-widgets/controls",
            "_model_module_version": "1.5.0",
            "value": 1648877,
            "_view_count": null,
            "_view_module_version": "1.5.0",
            "orientation": "horizontal",
            "min": 0,
            "description_tooltip": null,
            "_model_module": "@jupyter-widgets/controls",
            "layout": "IPY_MODEL_13fa16725dfc43798182b4f69fcf896b"
          }
        },
        "a771f288b2e04ca1950b55b56e5bf15f": {
          "model_module": "@jupyter-widgets/controls",
          "model_name": "HTMLModel",
          "model_module_version": "1.5.0",
          "state": {
            "_view_name": "HTMLView",
            "style": "IPY_MODEL_203478e03e6c4f8ead06a1242952d969",
            "_dom_classes": [],
            "description": "",
            "_model_name": "HTMLModel",
            "placeholder": "​",
            "_view_module": "@jupyter-widgets/controls",
            "_model_module_version": "1.5.0",
            "value": " 1649664/? [00:00&lt;00:00, 21663569.06it/s]",
            "_view_count": null,
            "_view_module_version": "1.5.0",
            "description_tooltip": null,
            "_model_module": "@jupyter-widgets/controls",
            "layout": "IPY_MODEL_1cb5278906ee4b808bc957308f2e2f96"
          }
        },
        "8d746b2b10e24c30975f2693c9e925f8": {
          "model_module": "@jupyter-widgets/controls",
          "model_name": "DescriptionStyleModel",
          "model_module_version": "1.5.0",
          "state": {
            "_view_name": "StyleView",
            "_model_name": "DescriptionStyleModel",
            "description_width": "",
            "_view_module": "@jupyter-widgets/base",
            "_model_module_version": "1.5.0",
            "_view_count": null,
            "_view_module_version": "1.2.0",
            "_model_module": "@jupyter-widgets/controls"
          }
        },
        "ec3366cad62741bfa90a1775a15f7ea8": {
          "model_module": "@jupyter-widgets/base",
          "model_name": "LayoutModel",
          "model_module_version": "1.2.0",
          "state": {
            "_view_name": "LayoutView",
            "grid_template_rows": null,
            "right": null,
            "justify_content": null,
            "_view_module": "@jupyter-widgets/base",
            "overflow": null,
            "_model_module_version": "1.2.0",
            "_view_count": null,
            "flex_flow": null,
            "width": null,
            "min_width": null,
            "border": null,
            "align_items": null,
            "bottom": null,
            "_model_module": "@jupyter-widgets/base",
            "top": null,
            "grid_column": null,
            "overflow_y": null,
            "overflow_x": null,
            "grid_auto_flow": null,
            "grid_area": null,
            "grid_template_columns": null,
            "flex": null,
            "_model_name": "LayoutModel",
            "justify_items": null,
            "grid_row": null,
            "max_height": null,
            "align_content": null,
            "visibility": null,
            "align_self": null,
            "height": null,
            "min_height": null,
            "padding": null,
            "grid_auto_rows": null,
            "grid_gap": null,
            "max_width": null,
            "order": null,
            "_view_module_version": "1.2.0",
            "grid_template_areas": null,
            "object_position": null,
            "object_fit": null,
            "grid_auto_columns": null,
            "margin": null,
            "display": null,
            "left": null
          }
        },
        "afaf227a03cf467ca6cc431df24620f1": {
          "model_module": "@jupyter-widgets/controls",
          "model_name": "ProgressStyleModel",
          "model_module_version": "1.5.0",
          "state": {
            "_view_name": "StyleView",
            "_model_name": "ProgressStyleModel",
            "description_width": "",
            "_view_module": "@jupyter-widgets/base",
            "_model_module_version": "1.5.0",
            "_view_count": null,
            "_view_module_version": "1.2.0",
            "bar_color": null,
            "_model_module": "@jupyter-widgets/controls"
          }
        },
        "13fa16725dfc43798182b4f69fcf896b": {
          "model_module": "@jupyter-widgets/base",
          "model_name": "LayoutModel",
          "model_module_version": "1.2.0",
          "state": {
            "_view_name": "LayoutView",
            "grid_template_rows": null,
            "right": null,
            "justify_content": null,
            "_view_module": "@jupyter-widgets/base",
            "overflow": null,
            "_model_module_version": "1.2.0",
            "_view_count": null,
            "flex_flow": null,
            "width": null,
            "min_width": null,
            "border": null,
            "align_items": null,
            "bottom": null,
            "_model_module": "@jupyter-widgets/base",
            "top": null,
            "grid_column": null,
            "overflow_y": null,
            "overflow_x": null,
            "grid_auto_flow": null,
            "grid_area": null,
            "grid_template_columns": null,
            "flex": null,
            "_model_name": "LayoutModel",
            "justify_items": null,
            "grid_row": null,
            "max_height": null,
            "align_content": null,
            "visibility": null,
            "align_self": null,
            "height": null,
            "min_height": null,
            "padding": null,
            "grid_auto_rows": null,
            "grid_gap": null,
            "max_width": null,
            "order": null,
            "_view_module_version": "1.2.0",
            "grid_template_areas": null,
            "object_position": null,
            "object_fit": null,
            "grid_auto_columns": null,
            "margin": null,
            "display": null,
            "left": null
          }
        },
        "203478e03e6c4f8ead06a1242952d969": {
          "model_module": "@jupyter-widgets/controls",
          "model_name": "DescriptionStyleModel",
          "model_module_version": "1.5.0",
          "state": {
            "_view_name": "StyleView",
            "_model_name": "DescriptionStyleModel",
            "description_width": "",
            "_view_module": "@jupyter-widgets/base",
            "_model_module_version": "1.5.0",
            "_view_count": null,
            "_view_module_version": "1.2.0",
            "_model_module": "@jupyter-widgets/controls"
          }
        },
        "1cb5278906ee4b808bc957308f2e2f96": {
          "model_module": "@jupyter-widgets/base",
          "model_name": "LayoutModel",
          "model_module_version": "1.2.0",
          "state": {
            "_view_name": "LayoutView",
            "grid_template_rows": null,
            "right": null,
            "justify_content": null,
            "_view_module": "@jupyter-widgets/base",
            "overflow": null,
            "_model_module_version": "1.2.0",
            "_view_count": null,
            "flex_flow": null,
            "width": null,
            "min_width": null,
            "border": null,
            "align_items": null,
            "bottom": null,
            "_model_module": "@jupyter-widgets/base",
            "top": null,
            "grid_column": null,
            "overflow_y": null,
            "overflow_x": null,
            "grid_auto_flow": null,
            "grid_area": null,
            "grid_template_columns": null,
            "flex": null,
            "_model_name": "LayoutModel",
            "justify_items": null,
            "grid_row": null,
            "max_height": null,
            "align_content": null,
            "visibility": null,
            "align_self": null,
            "height": null,
            "min_height": null,
            "padding": null,
            "grid_auto_rows": null,
            "grid_gap": null,
            "max_width": null,
            "order": null,
            "_view_module_version": "1.2.0",
            "grid_template_areas": null,
            "object_position": null,
            "object_fit": null,
            "grid_auto_columns": null,
            "margin": null,
            "display": null,
            "left": null
          }
        }
      }
    }
  },
  "cells": [
    {
      "cell_type": "markdown",
      "metadata": {
        "id": "view-in-github",
        "colab_type": "text"
      },
      "source": [
        "<a href=\"https://colab.research.google.com/github/kouluribabu12/Parallel-Computing-Lab/blob/main/19103331(26).ipynb\" target=\"_parent\"><img src=\"https://colab.research.google.com/assets/colab-badge.svg\" alt=\"Open In Colab\"/></a>"
      ]
    },
    {
      "cell_type": "markdown",
      "source": [
        "#**Parallel Computing Lab**\n",
        "submitted by-**Kouluri Babu_19103331(26)**"
      ],
      "metadata": {
        "id": "q8b31doz_D_u"
      }
    },
    {
      "cell_type": "markdown",
      "metadata": {
        "id": "hImLwvJm6BQe"
      },
      "source": [
        "# **DATE : 25-08-2021**"
      ]
    },
    {
      "cell_type": "markdown",
      "metadata": {
        "id": "DHY03dzfGJ0s"
      },
      "source": [
        "# **Assignment-1**\n",
        "**Q1. What is the pandas library ?**\n",
        " \n",
        "Ans: pandas is a popular Python-based data analysis toolkit which can be imported using import pandas as pd. It presents a diverse range of utilities, ranging from parsing multiple file formats to converting an entire data table into a NumPy matrix array. This makes pandas a trusted ally in data science and machine learning. Similar to NumPy, pandas deals primarily with data in 1-D and 2-D arrays; however, pandas handles the two differently.\n",
        "\n",
        "\n",
        "\n",
        "\n"
      ]
    },
    {
      "cell_type": "markdown",
      "metadata": {
        "id": "_0ABX8bdK_Rf"
      },
      "source": [
        "**Q2. Write a program to create series with scalar values by using the pandas library ?**"
      ]
    },
    {
      "cell_type": "code",
      "metadata": {
        "colab": {
          "base_uri": "https://localhost:8080/"
        },
        "id": "Y_Tq59BRLNz0",
        "outputId": "b359231d-0552-4bee-f946-07db4da0ff81"
      },
      "source": [
        " \n",
        "import pandas as pd\n",
        "import numpy as np\n",
        "# Create an empty pandas Series\n",
        "ser = pd.Series(dtype='float64')\n",
        "print(\"Empty pandas series:\") \n",
        "# Create a pandas Series\n",
        "ser = pd.Series([0, 10, 20, 30, 40, 50, 60, 70, 80, 90])\n",
        "print(ser)"
      ],
      "execution_count": null,
      "outputs": [
        {
          "name": "stdout",
          "output_type": "stream",
          "text": [
            "Empty pandas series:\n",
            "0     0\n",
            "1    10\n",
            "2    20\n",
            "3    30\n",
            "4    40\n",
            "5    50\n",
            "6    60\n",
            "7    70\n",
            "8    80\n",
            "9    90\n",
            "dtype: int64\n"
          ]
        }
      ]
    },
    {
      "cell_type": "markdown",
      "metadata": {
        "id": "TCyQZlIyKiKu"
      },
      "source": [
        "\n",
        " \n",
        "**Q3. Explain.all datatype in python?**\n",
        " \n",
        "Ans: Python has the following data types built-in by default, in these categories:\n",
        " \n",
        "Text Type: str Numeric Types: int, float, complex Sequence Types: list, tuple, range Mapping Type: dict Set Types: set, frozenset Boolean Type: bool Binary Types: bytes, bytearray, memoryview\n",
        " \n",
        "**Q4. What is the TPU? explian.** \n",
        " \n",
        "Ans: Tensor Processing Units (TPUs) are Google’s custom-developed application-specific integrated circuits (ASICs) used to accelerate machine learning workloads. TPUs are designed from the ground up with the benefit of Google’s deep experience and leadership in machine learning."
      ]
    },
    {
      "cell_type": "markdown",
      "metadata": {
        "id": "04fnCWZpLg2D"
      },
      "source": [
        "# **Program-1:**\n",
        "**write a program to fetch the data set from Google Drive**"
      ]
    },
    {
      "cell_type": "code",
      "metadata": {
        "colab": {
          "base_uri": "https://localhost:8080/"
        },
        "id": "PoUxkx5PLwe1",
        "outputId": "fe78eead-89d6-4870-93aa-9b607e8ab260"
      },
      "source": [
        " from google.colab import drive\n",
        " drive.mount('/content/drive')"
      ],
      "execution_count": null,
      "outputs": [
        {
          "name": "stdout",
          "output_type": "stream",
          "text": [
            "Mounted at /content/drive\n"
          ]
        }
      ]
    },
    {
      "cell_type": "code",
      "metadata": {
        "colab": {
          "base_uri": "https://localhost:8080/"
        },
        "id": "eL0P9gqYQdp6",
        "outputId": "dc7adc72-cb7a-4808-9ace-d3d353b48acc"
      },
      "source": [
        "import pandas as pd\n",
        "data = pd.read_csv('/content/drive/MyDrive/Colab Notebooks/spam_ham_dataset.csv')\n",
        "print(data)"
      ],
      "execution_count": null,
      "outputs": [
        {
          "name": "stdout",
          "output_type": "stream",
          "text": [
            "      Unnamed: 0  ... label_num\n",
            "0            605  ...         0\n",
            "1           2349  ...         0\n",
            "2           3624  ...         0\n",
            "3           4685  ...         1\n",
            "4           2030  ...         0\n",
            "...          ...  ...       ...\n",
            "5166        1518  ...         0\n",
            "5167         404  ...         0\n",
            "5168        2933  ...         0\n",
            "5169        1409  ...         0\n",
            "5170        4807  ...         1\n",
            "\n",
            "[5171 rows x 4 columns]\n"
          ]
        }
      ]
    },
    {
      "cell_type": "code",
      "metadata": {
        "colab": {
          "base_uri": "https://localhost:8080/",
          "height": 204
        },
        "id": "QrYDjtA1RF7_",
        "outputId": "6c918dee-769c-456c-d8c3-9400f6d69c9e"
      },
      "source": [
        "data.head()"
      ],
      "execution_count": null,
      "outputs": [
        {
          "data": {
            "text/html": [
              "<div>\n",
              "<style scoped>\n",
              "    .dataframe tbody tr th:only-of-type {\n",
              "        vertical-align: middle;\n",
              "    }\n",
              "\n",
              "    .dataframe tbody tr th {\n",
              "        vertical-align: top;\n",
              "    }\n",
              "\n",
              "    .dataframe thead th {\n",
              "        text-align: right;\n",
              "    }\n",
              "</style>\n",
              "<table border=\"1\" class=\"dataframe\">\n",
              "  <thead>\n",
              "    <tr style=\"text-align: right;\">\n",
              "      <th></th>\n",
              "      <th>Unnamed: 0</th>\n",
              "      <th>label</th>\n",
              "      <th>text</th>\n",
              "      <th>label_num</th>\n",
              "    </tr>\n",
              "  </thead>\n",
              "  <tbody>\n",
              "    <tr>\n",
              "      <th>0</th>\n",
              "      <td>605</td>\n",
              "      <td>ham</td>\n",
              "      <td>Subject: enron methanol ; meter # : 988291\\r\\n...</td>\n",
              "      <td>0</td>\n",
              "    </tr>\n",
              "    <tr>\n",
              "      <th>1</th>\n",
              "      <td>2349</td>\n",
              "      <td>ham</td>\n",
              "      <td>Subject: hpl nom for january 9 , 2001\\r\\n( see...</td>\n",
              "      <td>0</td>\n",
              "    </tr>\n",
              "    <tr>\n",
              "      <th>2</th>\n",
              "      <td>3624</td>\n",
              "      <td>ham</td>\n",
              "      <td>Subject: neon retreat\\r\\nho ho ho , we ' re ar...</td>\n",
              "      <td>0</td>\n",
              "    </tr>\n",
              "    <tr>\n",
              "      <th>3</th>\n",
              "      <td>4685</td>\n",
              "      <td>spam</td>\n",
              "      <td>Subject: photoshop , windows , office . cheap ...</td>\n",
              "      <td>1</td>\n",
              "    </tr>\n",
              "    <tr>\n",
              "      <th>4</th>\n",
              "      <td>2030</td>\n",
              "      <td>ham</td>\n",
              "      <td>Subject: re : indian springs\\r\\nthis deal is t...</td>\n",
              "      <td>0</td>\n",
              "    </tr>\n",
              "  </tbody>\n",
              "</table>\n",
              "</div>"
            ],
            "text/plain": [
              "   Unnamed: 0  ... label_num\n",
              "0         605  ...         0\n",
              "1        2349  ...         0\n",
              "2        3624  ...         0\n",
              "3        4685  ...         1\n",
              "4        2030  ...         0\n",
              "\n",
              "[5 rows x 4 columns]"
            ]
          },
          "execution_count": 4,
          "metadata": {},
          "output_type": "execute_result"
        }
      ]
    },
    {
      "cell_type": "code",
      "metadata": {
        "colab": {
          "base_uri": "https://localhost:8080/",
          "height": 204
        },
        "id": "b4U-_2kSRP9V",
        "outputId": "1d55262e-2176-4b11-9bad-f073e457ef1d"
      },
      "source": [
        "data.tail()"
      ],
      "execution_count": null,
      "outputs": [
        {
          "data": {
            "text/html": [
              "<div>\n",
              "<style scoped>\n",
              "    .dataframe tbody tr th:only-of-type {\n",
              "        vertical-align: middle;\n",
              "    }\n",
              "\n",
              "    .dataframe tbody tr th {\n",
              "        vertical-align: top;\n",
              "    }\n",
              "\n",
              "    .dataframe thead th {\n",
              "        text-align: right;\n",
              "    }\n",
              "</style>\n",
              "<table border=\"1\" class=\"dataframe\">\n",
              "  <thead>\n",
              "    <tr style=\"text-align: right;\">\n",
              "      <th></th>\n",
              "      <th>Unnamed: 0</th>\n",
              "      <th>label</th>\n",
              "      <th>text</th>\n",
              "      <th>label_num</th>\n",
              "    </tr>\n",
              "  </thead>\n",
              "  <tbody>\n",
              "    <tr>\n",
              "      <th>5166</th>\n",
              "      <td>1518</td>\n",
              "      <td>ham</td>\n",
              "      <td>Subject: put the 10 on the ft\\r\\nthe transport...</td>\n",
              "      <td>0</td>\n",
              "    </tr>\n",
              "    <tr>\n",
              "      <th>5167</th>\n",
              "      <td>404</td>\n",
              "      <td>ham</td>\n",
              "      <td>Subject: 3 / 4 / 2000 and following noms\\r\\nhp...</td>\n",
              "      <td>0</td>\n",
              "    </tr>\n",
              "    <tr>\n",
              "      <th>5168</th>\n",
              "      <td>2933</td>\n",
              "      <td>ham</td>\n",
              "      <td>Subject: calpine daily gas nomination\\r\\n&gt;\\r\\n...</td>\n",
              "      <td>0</td>\n",
              "    </tr>\n",
              "    <tr>\n",
              "      <th>5169</th>\n",
              "      <td>1409</td>\n",
              "      <td>ham</td>\n",
              "      <td>Subject: industrial worksheets for august 2000...</td>\n",
              "      <td>0</td>\n",
              "    </tr>\n",
              "    <tr>\n",
              "      <th>5170</th>\n",
              "      <td>4807</td>\n",
              "      <td>spam</td>\n",
              "      <td>Subject: important online banking alert\\r\\ndea...</td>\n",
              "      <td>1</td>\n",
              "    </tr>\n",
              "  </tbody>\n",
              "</table>\n",
              "</div>"
            ],
            "text/plain": [
              "      Unnamed: 0  ... label_num\n",
              "5166        1518  ...         0\n",
              "5167         404  ...         0\n",
              "5168        2933  ...         0\n",
              "5169        1409  ...         0\n",
              "5170        4807  ...         1\n",
              "\n",
              "[5 rows x 4 columns]"
            ]
          },
          "execution_count": 5,
          "metadata": {},
          "output_type": "execute_result"
        }
      ]
    },
    {
      "cell_type": "markdown",
      "metadata": {
        "id": "ifigJB-y-NSH"
      },
      "source": [
        "# **DATE : 01-09-2021**"
      ]
    },
    {
      "cell_type": "code",
      "metadata": {
        "colab": {
          "base_uri": "https://localhost:8080/"
        },
        "id": "BUqht3tmAzSV",
        "outputId": "6e9d7456-5b7c-48c2-a980-24ecc051fbf1"
      },
      "source": [
        " from google.colab import drive\n",
        " drive.mount('/content/drive')"
      ],
      "execution_count": null,
      "outputs": [
        {
          "name": "stdout",
          "output_type": "stream",
          "text": [
            "Mounted at /content/drive\n"
          ]
        }
      ]
    },
    {
      "cell_type": "code",
      "metadata": {
        "colab": {
          "base_uri": "https://localhost:8080/"
        },
        "id": "3L4cHuYFBWRB",
        "outputId": "e3c64291-fbad-40b3-8692-0e74cf15a31c"
      },
      "source": [
        "import pandas as pd\n",
        "data = pd.read_csv('/content/drive/MyDrive/Colab Notebooks/spam_ham_dataset.csv')\n",
        "print(data)"
      ],
      "execution_count": null,
      "outputs": [
        {
          "name": "stdout",
          "output_type": "stream",
          "text": [
            "      Unnamed: 0  ... label_num\n",
            "0            605  ...         0\n",
            "1           2349  ...         0\n",
            "2           3624  ...         0\n",
            "3           4685  ...         1\n",
            "4           2030  ...         0\n",
            "...          ...  ...       ...\n",
            "5166        1518  ...         0\n",
            "5167         404  ...         0\n",
            "5168        2933  ...         0\n",
            "5169        1409  ...         0\n",
            "5170        4807  ...         1\n",
            "\n",
            "[5171 rows x 4 columns]\n"
          ]
        }
      ]
    },
    {
      "cell_type": "code",
      "metadata": {
        "colab": {
          "base_uri": "https://localhost:8080/"
        },
        "id": "06df8ZLkD7Ya",
        "outputId": "3ee886f9-15be-407d-f9ee-01e567f1fc59"
      },
      "source": [
        "len(data)"
      ],
      "execution_count": null,
      "outputs": [
        {
          "data": {
            "text/plain": [
              "5171"
            ]
          },
          "execution_count": 4,
          "metadata": {},
          "output_type": "execute_result"
        }
      ]
    },
    {
      "cell_type": "code",
      "metadata": {
        "colab": {
          "base_uri": "https://localhost:8080/"
        },
        "id": "kRc7fN8GF37N",
        "outputId": "1dbd1429-5793-4eaa-9a90-9793319393e8"
      },
      "source": [
        "data.index"
      ],
      "execution_count": null,
      "outputs": [
        {
          "data": {
            "text/plain": [
              "RangeIndex(start=0, stop=5171, step=1)"
            ]
          },
          "execution_count": 5,
          "metadata": {},
          "output_type": "execute_result"
        }
      ]
    },
    {
      "cell_type": "code",
      "metadata": {
        "colab": {
          "base_uri": "https://localhost:8080/",
          "height": 173
        },
        "id": "qSDlUb7SGGEN",
        "outputId": "493a895c-dc48-48e7-ce93-4b5fcd22631e"
      },
      "source": [
        "data[0:4]"
      ],
      "execution_count": null,
      "outputs": [
        {
          "data": {
            "text/html": [
              "<div>\n",
              "<style scoped>\n",
              "    .dataframe tbody tr th:only-of-type {\n",
              "        vertical-align: middle;\n",
              "    }\n",
              "\n",
              "    .dataframe tbody tr th {\n",
              "        vertical-align: top;\n",
              "    }\n",
              "\n",
              "    .dataframe thead th {\n",
              "        text-align: right;\n",
              "    }\n",
              "</style>\n",
              "<table border=\"1\" class=\"dataframe\">\n",
              "  <thead>\n",
              "    <tr style=\"text-align: right;\">\n",
              "      <th></th>\n",
              "      <th>Unnamed: 0</th>\n",
              "      <th>label</th>\n",
              "      <th>text</th>\n",
              "      <th>label_num</th>\n",
              "    </tr>\n",
              "  </thead>\n",
              "  <tbody>\n",
              "    <tr>\n",
              "      <th>0</th>\n",
              "      <td>605</td>\n",
              "      <td>ham</td>\n",
              "      <td>Subject: enron methanol ; meter # : 988291\\r\\n...</td>\n",
              "      <td>0</td>\n",
              "    </tr>\n",
              "    <tr>\n",
              "      <th>1</th>\n",
              "      <td>2349</td>\n",
              "      <td>ham</td>\n",
              "      <td>Subject: hpl nom for january 9 , 2001\\r\\n( see...</td>\n",
              "      <td>0</td>\n",
              "    </tr>\n",
              "    <tr>\n",
              "      <th>2</th>\n",
              "      <td>3624</td>\n",
              "      <td>ham</td>\n",
              "      <td>Subject: neon retreat\\r\\nho ho ho , we ' re ar...</td>\n",
              "      <td>0</td>\n",
              "    </tr>\n",
              "    <tr>\n",
              "      <th>3</th>\n",
              "      <td>4685</td>\n",
              "      <td>spam</td>\n",
              "      <td>Subject: photoshop , windows , office . cheap ...</td>\n",
              "      <td>1</td>\n",
              "    </tr>\n",
              "  </tbody>\n",
              "</table>\n",
              "</div>"
            ],
            "text/plain": [
              "   Unnamed: 0  ... label_num\n",
              "0         605  ...         0\n",
              "1        2349  ...         0\n",
              "2        3624  ...         0\n",
              "3        4685  ...         1\n",
              "\n",
              "[4 rows x 4 columns]"
            ]
          },
          "execution_count": 6,
          "metadata": {},
          "output_type": "execute_result"
        }
      ]
    },
    {
      "cell_type": "code",
      "metadata": {
        "colab": {
          "base_uri": "https://localhost:8080/"
        },
        "id": "_tnB-VtzHATW",
        "outputId": "f1284a77-3779-4797-d9dc-c8436fcedaba"
      },
      "source": [
        "type(data)"
      ],
      "execution_count": null,
      "outputs": [
        {
          "data": {
            "text/plain": [
              "pandas.core.frame.DataFrame"
            ]
          },
          "execution_count": 6,
          "metadata": {},
          "output_type": "execute_result"
        }
      ]
    },
    {
      "cell_type": "markdown",
      "metadata": {
        "id": "Rh4rOYaHKKrF"
      },
      "source": [
        "# **Program-2:**\n"
      ]
    },
    {
      "cell_type": "code",
      "metadata": {
        "colab": {
          "base_uri": "https://localhost:8080/"
        },
        "id": "RZdcaTK7HKat",
        "outputId": "effb021a-8111-4ecb-9096-c6d5dba02fd8"
      },
      "source": [
        "import pandas as pd\n",
        "report = pd.read_csv('/content/drive/MyDrive/Colab Notebooks/covid_19_clean_complete - covid_19_clean_complete.csv')\n",
        "print(report)"
      ],
      "execution_count": null,
      "outputs": [
        {
          "name": "stdout",
          "output_type": "stream",
          "text": [
            "                  Province/State         Country/Region  ...  Deaths  Recovered\n",
            "0                            NaN            Afghanistan  ...       0          0\n",
            "1                            NaN                Albania  ...       0          0\n",
            "2                            NaN                Algeria  ...       0          0\n",
            "3                            NaN                Andorra  ...       0          0\n",
            "4                            NaN                 Angola  ...       0          0\n",
            "...                          ...                    ...  ...     ...        ...\n",
            "24361  Saint Pierre and Miquelon                 France  ...       0          0\n",
            "24362                        NaN            South Sudan  ...       0          0\n",
            "24363                        NaN         Western Sahara  ...       0          5\n",
            "24364                        NaN  Sao Tome and Principe  ...       0          0\n",
            "24365                        NaN                  Yemen  ...       0          0\n",
            "\n",
            "[24366 rows x 8 columns]\n"
          ]
        }
      ]
    },
    {
      "cell_type": "code",
      "metadata": {
        "colab": {
          "base_uri": "https://localhost:8080/",
          "height": 235
        },
        "id": "o4DWAYGXPB-R",
        "outputId": "8c965683-5233-4a4b-acb9-41083f4f5e4e"
      },
      "source": [
        "report[1:7]"
      ],
      "execution_count": null,
      "outputs": [
        {
          "data": {
            "text/html": [
              "<div>\n",
              "<style scoped>\n",
              "    .dataframe tbody tr th:only-of-type {\n",
              "        vertical-align: middle;\n",
              "    }\n",
              "\n",
              "    .dataframe tbody tr th {\n",
              "        vertical-align: top;\n",
              "    }\n",
              "\n",
              "    .dataframe thead th {\n",
              "        text-align: right;\n",
              "    }\n",
              "</style>\n",
              "<table border=\"1\" class=\"dataframe\">\n",
              "  <thead>\n",
              "    <tr style=\"text-align: right;\">\n",
              "      <th></th>\n",
              "      <th>Province/State</th>\n",
              "      <th>Country/Region</th>\n",
              "      <th>Lat</th>\n",
              "      <th>Long</th>\n",
              "      <th>Date</th>\n",
              "      <th>Confirmed</th>\n",
              "      <th>Deaths</th>\n",
              "      <th>Recovered</th>\n",
              "    </tr>\n",
              "  </thead>\n",
              "  <tbody>\n",
              "    <tr>\n",
              "      <th>1</th>\n",
              "      <td>NaN</td>\n",
              "      <td>Albania</td>\n",
              "      <td>41.1533</td>\n",
              "      <td>20.1683</td>\n",
              "      <td>1/22/20</td>\n",
              "      <td>0</td>\n",
              "      <td>0</td>\n",
              "      <td>0</td>\n",
              "    </tr>\n",
              "    <tr>\n",
              "      <th>2</th>\n",
              "      <td>NaN</td>\n",
              "      <td>Algeria</td>\n",
              "      <td>28.0339</td>\n",
              "      <td>1.6596</td>\n",
              "      <td>1/22/20</td>\n",
              "      <td>0</td>\n",
              "      <td>0</td>\n",
              "      <td>0</td>\n",
              "    </tr>\n",
              "    <tr>\n",
              "      <th>3</th>\n",
              "      <td>NaN</td>\n",
              "      <td>Andorra</td>\n",
              "      <td>42.5063</td>\n",
              "      <td>1.5218</td>\n",
              "      <td>1/22/20</td>\n",
              "      <td>0</td>\n",
              "      <td>0</td>\n",
              "      <td>0</td>\n",
              "    </tr>\n",
              "    <tr>\n",
              "      <th>4</th>\n",
              "      <td>NaN</td>\n",
              "      <td>Angola</td>\n",
              "      <td>-11.2027</td>\n",
              "      <td>17.8739</td>\n",
              "      <td>1/22/20</td>\n",
              "      <td>0</td>\n",
              "      <td>0</td>\n",
              "      <td>0</td>\n",
              "    </tr>\n",
              "    <tr>\n",
              "      <th>5</th>\n",
              "      <td>NaN</td>\n",
              "      <td>Antigua and Barbuda</td>\n",
              "      <td>17.0608</td>\n",
              "      <td>-61.7964</td>\n",
              "      <td>1/22/20</td>\n",
              "      <td>0</td>\n",
              "      <td>0</td>\n",
              "      <td>0</td>\n",
              "    </tr>\n",
              "    <tr>\n",
              "      <th>6</th>\n",
              "      <td>NaN</td>\n",
              "      <td>Argentina</td>\n",
              "      <td>-38.4161</td>\n",
              "      <td>-63.6167</td>\n",
              "      <td>1/22/20</td>\n",
              "      <td>0</td>\n",
              "      <td>0</td>\n",
              "      <td>0</td>\n",
              "    </tr>\n",
              "  </tbody>\n",
              "</table>\n",
              "</div>"
            ],
            "text/plain": [
              "  Province/State       Country/Region      Lat  ...  Confirmed Deaths  Recovered\n",
              "1            NaN              Albania  41.1533  ...          0      0          0\n",
              "2            NaN              Algeria  28.0339  ...          0      0          0\n",
              "3            NaN              Andorra  42.5063  ...          0      0          0\n",
              "4            NaN               Angola -11.2027  ...          0      0          0\n",
              "5            NaN  Antigua and Barbuda  17.0608  ...          0      0          0\n",
              "6            NaN            Argentina -38.4161  ...          0      0          0\n",
              "\n",
              "[6 rows x 8 columns]"
            ]
          },
          "execution_count": 10,
          "metadata": {},
          "output_type": "execute_result"
        }
      ]
    },
    {
      "cell_type": "code",
      "metadata": {
        "colab": {
          "base_uri": "https://localhost:8080/"
        },
        "id": "c0eWiRtYPL7p",
        "outputId": "021dfac2-f9f5-43d4-f39d-c760866b2398"
      },
      "source": [
        "len(report)"
      ],
      "execution_count": null,
      "outputs": [
        {
          "data": {
            "text/plain": [
              "24366"
            ]
          },
          "execution_count": 17,
          "metadata": {},
          "output_type": "execute_result"
        }
      ]
    },
    {
      "cell_type": "code",
      "metadata": {
        "colab": {
          "base_uri": "https://localhost:8080/"
        },
        "id": "pIfNIZbfPqwh",
        "outputId": "7bde5e07-8d0c-40f1-869c-e5fe3e8e995f"
      },
      "source": [
        "confirmed = report.groupby('Date')['Confirmed'].sum().reset_index()\n",
        "print(confirmed)"
      ],
      "execution_count": null,
      "outputs": [
        {
          "name": "stdout",
          "output_type": "stream",
          "text": [
            "       Date  Confirmed\n",
            "0   1/22/20        555\n",
            "1   1/23/20        654\n",
            "2   1/24/20        941\n",
            "3   1/25/20       1434\n",
            "4   1/26/20       2118\n",
            "..      ...        ...\n",
            "88   4/5/20    1249482\n",
            "89   4/6/20    1321129\n",
            "90   4/7/20    1396090\n",
            "91   4/8/20    1479802\n",
            "92   4/9/20    1565276\n",
            "\n",
            "[93 rows x 2 columns]\n"
          ]
        }
      ]
    },
    {
      "cell_type": "code",
      "metadata": {
        "colab": {
          "base_uri": "https://localhost:8080/",
          "height": 204
        },
        "id": "_W8hLkVjQDWn",
        "outputId": "47c0ee53-2b69-41d7-a367-0b957f643e84"
      },
      "source": [
        "confirmed.rename(columns={\"Date\":\"ds\",\"Confirmed\":\"y\"},inplace=True)\n",
        "confirmed.head()"
      ],
      "execution_count": null,
      "outputs": [
        {
          "data": {
            "text/html": [
              "<div>\n",
              "<style scoped>\n",
              "    .dataframe tbody tr th:only-of-type {\n",
              "        vertical-align: middle;\n",
              "    }\n",
              "\n",
              "    .dataframe tbody tr th {\n",
              "        vertical-align: top;\n",
              "    }\n",
              "\n",
              "    .dataframe thead th {\n",
              "        text-align: right;\n",
              "    }\n",
              "</style>\n",
              "<table border=\"1\" class=\"dataframe\">\n",
              "  <thead>\n",
              "    <tr style=\"text-align: right;\">\n",
              "      <th></th>\n",
              "      <th>ds</th>\n",
              "      <th>y</th>\n",
              "    </tr>\n",
              "  </thead>\n",
              "  <tbody>\n",
              "    <tr>\n",
              "      <th>0</th>\n",
              "      <td>1/22/20</td>\n",
              "      <td>555</td>\n",
              "    </tr>\n",
              "    <tr>\n",
              "      <th>1</th>\n",
              "      <td>1/23/20</td>\n",
              "      <td>654</td>\n",
              "    </tr>\n",
              "    <tr>\n",
              "      <th>2</th>\n",
              "      <td>1/24/20</td>\n",
              "      <td>941</td>\n",
              "    </tr>\n",
              "    <tr>\n",
              "      <th>3</th>\n",
              "      <td>1/25/20</td>\n",
              "      <td>1434</td>\n",
              "    </tr>\n",
              "    <tr>\n",
              "      <th>4</th>\n",
              "      <td>1/26/20</td>\n",
              "      <td>2118</td>\n",
              "    </tr>\n",
              "  </tbody>\n",
              "</table>\n",
              "</div>"
            ],
            "text/plain": [
              "        ds     y\n",
              "0  1/22/20   555\n",
              "1  1/23/20   654\n",
              "2  1/24/20   941\n",
              "3  1/25/20  1434\n",
              "4  1/26/20  2118"
            ]
          },
          "execution_count": 19,
          "metadata": {},
          "output_type": "execute_result"
        }
      ]
    },
    {
      "cell_type": "code",
      "metadata": {
        "colab": {
          "base_uri": "https://localhost:8080/"
        },
        "id": "OypoiVWnQRi7",
        "outputId": "19fa04b0-a2b0-4d4d-bddb-81bea6586e12"
      },
      "source": [
        "report['Active'] = report['Confirmed'] - report['Deaths'] - report['Recovered']\n",
        "print(report)"
      ],
      "execution_count": null,
      "outputs": [
        {
          "name": "stdout",
          "output_type": "stream",
          "text": [
            "                  Province/State         Country/Region  ...  Recovered  Active\n",
            "0                            NaN            Afghanistan  ...          0       0\n",
            "1                            NaN                Albania  ...          0       0\n",
            "2                            NaN                Algeria  ...          0       0\n",
            "3                            NaN                Andorra  ...          0       0\n",
            "4                            NaN                 Angola  ...          0       0\n",
            "...                          ...                    ...  ...        ...     ...\n",
            "24361  Saint Pierre and Miquelon                 France  ...          0       1\n",
            "24362                        NaN            South Sudan  ...          0       5\n",
            "24363                        NaN         Western Sahara  ...          5       1\n",
            "24364                        NaN  Sao Tome and Principe  ...          0       4\n",
            "24365                        NaN                  Yemen  ...          0       1\n",
            "\n",
            "[24366 rows x 9 columns]\n"
          ]
        }
      ]
    },
    {
      "cell_type": "markdown",
      "metadata": {
        "id": "eywc9YJ00JcJ"
      },
      "source": [
        "# **Assignment-2**\n",
        "\n"
      ]
    },
    {
      "cell_type": "markdown",
      "metadata": {
        "id": "YZ5OyVIRXmvL"
      },
      "source": [
        "**Q1.write the program to print the number of cores of Multiprocessor CPU**"
      ]
    },
    {
      "cell_type": "markdown",
      "metadata": {
        "id": "gzJOUFXtI1s-"
      },
      "source": [
        "**MULTIPROCESSOR:**"
      ]
    },
    {
      "cell_type": "code",
      "metadata": {
        "colab": {
          "base_uri": "https://localhost:8080/"
        },
        "id": "5bfcZVebXgEE",
        "outputId": "fde0906d-f273-434c-f6f0-ec712c2e647c"
      },
      "source": [
        "import multiprocessing\n",
        "print(\"The number of cores in the system is\",multiprocessing.cpu_count())"
      ],
      "execution_count": null,
      "outputs": [
        {
          "name": "stdout",
          "output_type": "stream",
          "text": [
            "The number of cores in the system is 2\n"
          ]
        }
      ]
    },
    {
      "cell_type": "markdown",
      "metadata": {
        "id": "Yqp1xuw8zsbJ"
      },
      "source": [
        "**Q1: What is the library function in multiprocessing system? Explain.**\n",
        "\n",
        "**Ans:** In Python, the multiprocessing module includes a very simple and intuitive API for dividing work between multiple processes.\n",
        "\n",
        "To import the multiprocessing module, we do:\n",
        "\n",
        "\n",
        "\n",
        "\n",
        "```\n",
        "# import multiprocessing\n",
        "```\n",
        "\n",
        "\n",
        "To create a process, we create an object of Process class. It takes following arguments:\n",
        "\n",
        "target: the function to be executed by process\n",
        "\n",
        "args: the arguments to be passed to the target function\n",
        "\n",
        "\n",
        "\n",
        "```\n",
        "# p1 = multiprocessing.Process(target=print_square, args=(10, ))\n",
        "```\n",
        "```\n",
        "# p2 = multiprocessing.Process(target=print_cube, args=(10, ))\n",
        "```\n",
        "\n",
        "\n",
        "\n",
        "To start a process, we use start method of Process class.\n",
        "\n",
        "\n",
        "\n",
        "\n",
        "```\n",
        "# p1.start()\n",
        "```\n",
        "\n",
        "\n",
        "```\n",
        "# p2.start()\n",
        "```\n",
        "\n",
        "\n",
        "\n",
        "\n",
        "\n",
        "\n",
        "\n",
        "Once the processes start, the current program also keeps on executing. In order to stop execution of current program until a process is complete, we use join method.\n",
        "\n",
        "\n",
        "\n",
        "```\n",
        "# p1.join()\n",
        "```\n",
        "\n",
        "\n",
        "```\n",
        "# p2.join()\n",
        "```\n",
        "\n",
        "\n",
        "\n",
        "As a result, the current program will first wait for the completion of p1 and then p2. Once, they are completed, the next statements of current program are executed.\n",
        "\n",
        "The main python script has a different process ID and multiprocessing module spawns new processes with different process IDs as we create Process objects p1 and p2, use os.getpid() function to get ID of process running the current target function."
      ]
    },
    {
      "cell_type": "markdown",
      "metadata": {
        "id": "KFqPopmdCKSB"
      },
      "source": [
        "**Q3.What is difference between multiprocessin, multithreading and concurrent systems?**\n",
        "\n",
        "Ans: **Differences**:\n",
        "\n",
        "  **Multiprocessing**:\t\n",
        "1]  In Multiprocessing, CPUs are added for increasing computing power.\n",
        "\n",
        "2]\tIn Multiprocessing, Many processes are executed simultaneously. \n",
        "\n",
        "3] Multiprocessing are classified into Symmetric and Asymmetric.\n",
        "\n",
        "4] In Multiprocessing, Process creation is a time-consuming process.\n",
        "\n",
        "5] In Multiprocessing, every process owned a separate address space.\n",
        "\n",
        "**Multithreading**:\n",
        "\n",
        "1] While In Multithreading, many threads are created of a single process for increasing computing power.\n",
        "\n",
        "2] While In Multithreading, many threads are created of a single process for increasing computing power.\n",
        "\n",
        "3] While Multithreading is not classified in any categories.\n",
        "\n",
        "4] While in Multithreading, process creation is according to economical.\n",
        "\n",
        "5] While in Multithreading, a common address space is shared by all the threads.\n",
        "\n",
        "\n",
        "\n"
      ]
    },
    {
      "cell_type": "markdown",
      "metadata": {
        "id": "2yyaZ-ekE8fR"
      },
      "source": [
        "# **DATE :08-09-2021**"
      ]
    },
    {
      "cell_type": "markdown",
      "metadata": {
        "id": "H-bTvTuRFfNQ"
      },
      "source": [
        "**multiprocesser :**"
      ]
    },
    {
      "cell_type": "code",
      "metadata": {
        "colab": {
          "base_uri": "https://localhost:8080/"
        },
        "id": "vzAbCfQqG3fs",
        "outputId": "6a9b94e5-e283-4170-94fc-b88d86b79031"
      },
      "source": [
        "import multiprocessing as mp\n",
        "print(\"Number of processors: \", mp.cpu_count())"
      ],
      "execution_count": null,
      "outputs": [
        {
          "name": "stdout",
          "output_type": "stream",
          "text": [
            "Number of processors:  2\n"
          ]
        }
      ]
    },
    {
      "cell_type": "code",
      "metadata": {
        "colab": {
          "base_uri": "https://localhost:8080/"
        },
        "id": "LamRL81hZ9hh",
        "outputId": "23942602-543d-43bb-e033-b4270faada53"
      },
      "source": [
        "import time as t\n",
        "start_time = t.time()\n",
        "print(\"--- CPU TIME =%s seconds ---\" % (t.time() - start_time))"
      ],
      "execution_count": null,
      "outputs": [
        {
          "name": "stdout",
          "output_type": "stream",
          "text": [
            "--- CPU TIME =4.696846008300781e-05 seconds ---\n"
          ]
        }
      ]
    },
    {
      "cell_type": "code",
      "metadata": {
        "colab": {
          "base_uri": "https://localhost:8080/"
        },
        "id": "NfRPP9CmSOHs",
        "outputId": "81119d4c-d6d5-45ad-de3d-28e0d80146e8"
      },
      "source": [
        "import time \n",
        "from timeit import default_timer as timer \n",
        "import multiprocessing as mp\n",
        "import numpy as np\n",
        "x = [1, 2, 3, 4] # Write input\n",
        "start=timer()\n",
        "y = 0 # Initialize output\n",
        "\n",
        "for i in range(len(x)):\n",
        "  y += x[i] # Add each element to the output variable\n",
        "\n",
        "print(y) # Print output\n",
        "end1=timer()-start\n",
        "print(\"sequential time : \",end1)"
      ],
      "execution_count": null,
      "outputs": [
        {
          "name": "stdout",
          "output_type": "stream",
          "text": [
            "10\n",
            "sequential time :  0.00022276599997894664\n"
          ]
        }
      ]
    },
    {
      "cell_type": "code",
      "metadata": {
        "colab": {
          "base_uri": "https://localhost:8080/"
        },
        "id": "r3eerznhSl4i",
        "outputId": "dc9d2bc2-88fa-482f-907d-65648ace4b50"
      },
      "source": [
        "import time \n",
        "from timeit import default_timer as timer \n",
        "import multiprocessing as mp\n",
        "import numpy as np\n",
        "x = [1, 2, 4, 4]\n",
        "start=timer()\n",
        "chunk1 = x[:2]\n",
        "chunk2 = x[2:]\n",
        "\n",
        "sum_1 = sum(chunk1)\n",
        "sum_2 = sum(chunk2)\n",
        "\n",
        "result = sum_1 + sum_2\n",
        " \n",
        "print(result)\n",
        "end1=timer()-start\n",
        "print(\"time : \",end1)"
      ],
      "execution_count": null,
      "outputs": [
        {
          "name": "stdout",
          "output_type": "stream",
          "text": [
            "11\n",
            "time :  0.0006717280000430037\n"
          ]
        }
      ]
    },
    {
      "cell_type": "code",
      "metadata": {
        "colab": {
          "base_uri": "https://localhost:8080/"
        },
        "id": "BT3kXXuITzJe",
        "outputId": "0a40126f-9488-44f1-95e8-bc9b42cf97d8"
      },
      "source": [
        "from tensorflow.python.client import device_lib\n",
        "device_lib.list_local_devices()"
      ],
      "execution_count": null,
      "outputs": [
        {
          "data": {
            "text/plain": [
              "[name: \"/device:CPU:0\"\n",
              " device_type: \"CPU\"\n",
              " memory_limit: 268435456\n",
              " locality {\n",
              " }\n",
              " incarnation: 214678979393442374, name: \"/device:GPU:0\"\n",
              " device_type: \"GPU\"\n",
              " memory_limit: 11345264640\n",
              " locality {\n",
              "   bus_id: 1\n",
              "   links {\n",
              "   }\n",
              " }\n",
              " incarnation: 569408031360666693\n",
              " physical_device_desc: \"device: 0, name: Tesla K80, pci bus id: 0000:00:04.0, compute capability: 3.7\"]"
            ]
          },
          "execution_count": 12,
          "metadata": {},
          "output_type": "execute_result"
        }
      ]
    },
    {
      "cell_type": "markdown",
      "metadata": {
        "id": "3iBUxxty_A_G"
      },
      "source": [
        "**Write a program if GPU is available or Not.**"
      ]
    },
    {
      "cell_type": "code",
      "metadata": {
        "colab": {
          "base_uri": "https://localhost:8080/"
        },
        "id": "AiE9zGTOUPXu",
        "outputId": "ee72a02b-edc3-44b8-8050-186979def9cd"
      },
      "source": [
        "from tensorflow.python.client import device_lib\n",
        "\n",
        "def get_available_gpus():\n",
        "    local_device_protos = device_lib.list_local_devices()\n",
        "    return [x.name for x in local_device_protos if x.device_type == 'GPU']\n",
        "\n",
        "get_available_gpus()"
      ],
      "execution_count": null,
      "outputs": [
        {
          "data": {
            "text/plain": [
              "['/device:GPU:0']"
            ]
          },
          "execution_count": 2,
          "metadata": {},
          "output_type": "execute_result"
        }
      ]
    },
    {
      "cell_type": "code",
      "metadata": {
        "colab": {
          "base_uri": "https://localhost:8080/"
        },
        "id": "hlrBgA-mUiAl",
        "outputId": "6edef110-e51a-4ca6-a986-9f2014d930f8"
      },
      "source": [
        "import tensorflow as tf\n",
        "print(\"Num GPUs Available: \", len(tf.config.experimental.list_physical_devices('GPU')))"
      ],
      "execution_count": null,
      "outputs": [
        {
          "name": "stdout",
          "output_type": "stream",
          "text": [
            "Num GPUs Available:  1\n"
          ]
        }
      ]
    },
    {
      "cell_type": "code",
      "metadata": {
        "colab": {
          "base_uri": "https://localhost:8080/"
        },
        "id": "Jj9rBO9RUs6N",
        "outputId": "96935a78-8ac6-42e0-aaa3-774a470c7f62"
      },
      "source": [
        "pip install GPUtil"
      ],
      "execution_count": null,
      "outputs": [
        {
          "name": "stdout",
          "output_type": "stream",
          "text": [
            "Collecting GPUtil\n",
            "  Downloading GPUtil-1.4.0.tar.gz (5.5 kB)\n",
            "Building wheels for collected packages: GPUtil\n",
            "  Building wheel for GPUtil (setup.py) ... \u001b[?25l\u001b[?25hdone\n",
            "  Created wheel for GPUtil: filename=GPUtil-1.4.0-py3-none-any.whl size=7411 sha256=805a6e03fddc5aa318fe49556379536d2b38016756c016ce630fd316a9a54df1\n",
            "  Stored in directory: /root/.cache/pip/wheels/6e/f8/83/534c52482d6da64622ddbf72cd93c35d2ef2881b78fd08ff0c\n",
            "Successfully built GPUtil\n",
            "Installing collected packages: GPUtil\n",
            "Successfully installed GPUtil-1.4.0\n"
          ]
        }
      ]
    },
    {
      "cell_type": "code",
      "metadata": {
        "colab": {
          "base_uri": "https://localhost:8080/"
        },
        "id": "-LPhL5PSWEfI",
        "outputId": "76196956-68ec-43f7-c169-cb09b3994077"
      },
      "source": [
        "import GPUtil\n",
        "GPUtil.showUtilization()\n",
        "GPUs = GPUtil.getGPUs()"
      ],
      "execution_count": null,
      "outputs": [
        {
          "name": "stdout",
          "output_type": "stream",
          "text": [
            "| ID | GPU | MEM |\n",
            "------------------\n",
            "|  0 |  0% |  1% |\n"
          ]
        }
      ]
    },
    {
      "cell_type": "code",
      "metadata": {
        "colab": {
          "base_uri": "https://localhost:8080/"
        },
        "id": "PRDffJMSWyZk",
        "outputId": "c08c37c0-fe98-424b-9151-e8b1817e3dde"
      },
      "source": [
        "!cat /proc/meminfo"
      ],
      "execution_count": null,
      "outputs": [
        {
          "name": "stdout",
          "output_type": "stream",
          "text": [
            "MemTotal:       13302916 kB\n",
            "MemFree:         9322580 kB\n",
            "MemAvailable:   12115964 kB\n",
            "Buffers:          137200 kB\n",
            "Cached:          2680452 kB\n",
            "SwapCached:            0 kB\n",
            "Active:          1307928 kB\n",
            "Inactive:        2304508 kB\n",
            "Active(anon):     650656 kB\n",
            "Inactive(anon):     2508 kB\n",
            "Active(file):     657272 kB\n",
            "Inactive(file):  2302000 kB\n",
            "Unevictable:           0 kB\n",
            "Mlocked:               0 kB\n",
            "SwapTotal:             0 kB\n",
            "SwapFree:              0 kB\n",
            "Dirty:               212 kB\n",
            "Writeback:             0 kB\n",
            "AnonPages:        794828 kB\n",
            "Mapped:           580232 kB\n",
            "Shmem:              3236 kB\n",
            "KReclaimable:     151380 kB\n",
            "Slab:             209480 kB\n",
            "SReclaimable:     151380 kB\n",
            "SUnreclaim:        58100 kB\n",
            "KernelStack:        4912 kB\n",
            "PageTables:         8420 kB\n",
            "NFS_Unstable:          0 kB\n",
            "Bounce:                0 kB\n",
            "WritebackTmp:          0 kB\n",
            "CommitLimit:     6651456 kB\n",
            "Committed_AS:    3603092 kB\n",
            "VmallocTotal:   34359738367 kB\n",
            "VmallocUsed:       46624 kB\n",
            "VmallocChunk:          0 kB\n",
            "Percpu:             1400 kB\n",
            "AnonHugePages:      2048 kB\n",
            "ShmemHugePages:        0 kB\n",
            "ShmemPmdMapped:        0 kB\n",
            "FileHugePages:         0 kB\n",
            "FilePmdMapped:         0 kB\n",
            "CmaTotal:              0 kB\n",
            "CmaFree:               0 kB\n",
            "HugePages_Total:       0\n",
            "HugePages_Free:        0\n",
            "HugePages_Rsvd:        0\n",
            "HugePages_Surp:        0\n",
            "Hugepagesize:       2048 kB\n",
            "Hugetlb:               0 kB\n",
            "DirectMap4k:      191296 kB\n",
            "DirectMap2M:     5048320 kB\n",
            "DirectMap1G:    10485760 kB\n"
          ]
        }
      ]
    },
    {
      "cell_type": "markdown",
      "metadata": {
        "id": "c8NicgTYCXS3"
      },
      "source": [
        "# **Assignment - 3**"
      ]
    },
    {
      "cell_type": "markdown",
      "metadata": {
        "id": "EP6L27nNEjvr"
      },
      "source": [
        "**Q1. Explain the numpy and tensor flow in py.**\n",
        "\n",
        " Ans: **Numpy:**  NumPy stands for ‘Numerical Python’ or ‘Numeric Python’. It is an open source module of Python which provides fast mathematical computation on arrays and matrices. Since, arrays and matrices are an essential part of the Machine Learning ecosystem, NumPy along with Machine Learning modules like Scikit-learn, Pandas, Matplotlib, TensorFlow, etc. complete the Python Machine Learning Ecosystem.\n",
        " NumPy provides the essential multi-dimensional array-oriented computing functionalities designed for high-level mathematical functions and scientific computation. Numpy can be imported into the notebook using\n",
        "\n",
        " **>>>** import numpy as np\n",
        "\n",
        " NumPy’s main object is the homogeneous multidimensional array. It is a table with same type elements, i.e, integers or string or characters (homogeneous), usually integers. In NumPy, dimensions are called axes. The number of axes is called the rank.\n",
        "\n",
        " **TensorFlow:** it is an open-source software library. TensorFlow was originally developed by researchers and engineers working on the Google Brain Team within Google’s Machine Intelligence research organization for the purposes of conducting machine learning and deep neural networks research, but the system is general enough to be applicable in a wide variety of other domains as well!\n",
        "                     \n",
        "**Q2.what are the significant of numpy and tensor flow packages in python?**\n",
        "\n",
        "Ans: **Numpy packages in python:**\n",
        "\n",
        "**ndarray.shape :** The dimensions of the array. This is a tuple of integers indicating the size of the array in each dimension. For a matrix with n rows and m columns, shape will be(n,m) .\n",
        "\n",
        "**ndarray.ndim :** The number of axes (dimensions) of the array.\n",
        "\n",
        "**ndarray.dtype :** If you want to know the data type of an array, you can query the attributes of dtype. An object describing the type of the elements in the array. One can create or specify dtype using standard Python types.\n",
        "\n",
        "**ndarray.itemsize :** The size in bytes of each element of the array. For example, an array of elements of type float64 has itemsize 8 (=64/8), while one of type complex32 has itemsize 4 (=32/8). It is equivalent to ndarray.dtype.itemsize.\n",
        "\n",
        "**ndarray.size:** The total number of elements of the array. This is equal to the product of the elements of shape.\n",
        "\n",
        "**Tensor flow packages in python:** TensorFlow is basically a software library for numerical computation using data flow graphs where:\n",
        "\n",
        "1] nodes in the graph represent mathematical operations.\n",
        "\n",
        "2] edges in the graph represent the multidimensional data arrays (called tensors) communicated between them. (Please note that tensor is the central unit of data in TensorFlow)"
      ]
    },
    {
      "cell_type": "markdown",
      "metadata": {
        "id": "DIzvpEVR-btm"
      },
      "source": [
        "**Q3.Write a python program to perform addition of array element in    sequential   and multiprocessing in a module.also compare the time in multiprocesing and sequential.**"
      ]
    },
    {
      "cell_type": "code",
      "metadata": {
        "colab": {
          "base_uri": "https://localhost:8080/"
        },
        "id": "nwcCvbqAnND6",
        "outputId": "ce8efc4e-c7b0-48a1-f841-04cfb7c32de1"
      },
      "source": [
        "import time\n",
        "from timeit import default_timer as timer\n",
        "import multiprocessing as mp\n",
        "import numpy as mp\n",
        "x =[1,2,3,4,5,6]\n",
        "start = timer()\n",
        "y = 0 #output initialization\n",
        "\n",
        "for i in range(len(x)):\n",
        "  y += x[i]  #adding elements to y\n",
        "\n",
        "print(y)  #print output\n",
        "endl = timer()-start\n",
        "print(\"sequential time : \", endl)"
      ],
      "execution_count": null,
      "outputs": [
        {
          "name": "stdout",
          "output_type": "stream",
          "text": [
            "21\n",
            "sequential time :  0.00023359800002253905\n"
          ]
        }
      ]
    },
    {
      "cell_type": "code",
      "metadata": {
        "colab": {
          "base_uri": "https://localhost:8080/"
        },
        "id": "hidsEkeyneY3",
        "outputId": "097e5e98-41f4-4670-ed74-e380158d3e5d"
      },
      "source": [
        "def pr(num):\n",
        "    \n",
        "    print(sum(num))\n",
        "\n",
        "import time\n",
        "from timeit import default_timer as timer\n",
        "import multiprocessing as mp\n",
        "import numpy as np\n",
        "x = [1,2,3,4,5,6] # Write input\n",
        "chunk1 = x[:3]\n",
        "chunk2 = x[3:]\n",
        "\n",
        "\n",
        "\n",
        "start = timer()\n",
        "p1 = mp.Process(target=pr, args=(chunk1, ))\n",
        "p2 = mp.Process(target=pr, args=(chunk2, ))\n",
        "  \n",
        " # starting process 1\n",
        "p1.start()\n",
        " # starting process 2\n",
        "p2.start()   \n",
        "  \n",
        " # wait until process 1 is finished\n",
        "p1.join()\n",
        "   \n",
        "p2.join()\n",
        "  \n",
        "   \n",
        "\n",
        "end1 = timer()-start\n",
        "print(\"time: \",end1)"
      ],
      "execution_count": null,
      "outputs": [
        {
          "name": "stdout",
          "output_type": "stream",
          "text": [
            "6\n",
            "15\n",
            "time:  0.03307310400003871\n"
          ]
        }
      ]
    },
    {
      "cell_type": "markdown",
      "metadata": {
        "id": "Z-mgrebq9MzK"
      },
      "source": [
        "# **DATE : 22-09-2021**"
      ]
    },
    {
      "cell_type": "markdown",
      "metadata": {
        "id": "ajMp6KCtmoAv"
      },
      "source": [
        "**Object: Write a program to square of an element by using the pool class of multiprocessing module.**"
      ]
    },
    {
      "cell_type": "code",
      "metadata": {
        "colab": {
          "base_uri": "https://localhost:8080/",
          "height": 397
        },
        "id": "zgObQBxrPscm",
        "outputId": "cba750bc-748a-451e-fb40-ebbd771374a2"
      },
      "source": [
        "import multiprocessing as mp \n",
        "import os \n",
        "import time\n",
        "from timeit import default_timer as timer\n",
        "import matplotlib.pyplot as plt\n",
        "\n",
        "\n",
        "def square(n):\n",
        "  time.sleep(0.04)\n",
        "  #print(\"Worker process id for {0}: {1}\".format(n, os.getpid())) \n",
        "  return (n*n) \n",
        "  \n",
        "if __name__ == \"__main__\": \n",
        "    # input list \n",
        "    mylist = [5,123456]\n",
        "    start=timer()\n",
        "    for i in mylist:\n",
        "      time.sleep(0.04)\n",
        "      print(i*i)\n",
        "    end1=timer()-start\n",
        "    print(\"sequential time is \" ,end1)\n",
        "\n",
        "    start=timer()\n",
        "    # creating a pool\n",
        "    p = mp.Pool() \n",
        "    result = p.map(square, mylist) \n",
        "    end2=timer()-start\n",
        "    print(\"parallel processing time is \" ,end2)\n",
        "    print(result)\n",
        "    print(\"length of list : \",len(mylist))\n",
        "\n",
        "    fig = plt.figure()\n",
        "    t = ['sequential', 'parallel(pool)']\n",
        "    exe_time = [end1,end2]\n",
        "    plt.bar(t,exe_time, color ='green') \n",
        "    plt.xlabel(\"different functins\") \n",
        "    plt.ylabel(\"time taken\") \n",
        "    plt.title(\"time taken by sequential and pool process\")\n",
        "    plt.show()\n"
      ],
      "execution_count": null,
      "outputs": [
        {
          "name": "stdout",
          "output_type": "stream",
          "text": [
            "25\n",
            "15241383936\n",
            "sequential time is  0.08040480899990143\n",
            "parallel processing time is  0.0720755879999615\n",
            "[25, 15241383936]\n",
            "length of list :  2\n"
          ]
        },
        {
          "data": {
            "image/png": "[encoded data removed]",
            "text/plain": [
              "<Figure size 432x288 with 1 Axes>"
            ]
          },
          "metadata": {},
          "output_type": "display_data"
        }
      ]
    },
    {
      "cell_type": "markdown",
      "metadata": {
        "id": "aB02JN5aYhl-"
      },
      "source": [
        "\n",
        "**What is the JIT in python?**"
      ]
    },
    {
      "cell_type": "code",
      "metadata": {
        "colab": {
          "base_uri": "https://localhost:8080/",
          "height": 346
        },
        "id": "zDiE97Fptxr8",
        "outputId": "e45c4501-1ce3-413c-a5d1-5e2fd9e16440"
      },
      "source": [
        "from numba import jit \n",
        "import numpy as np \n",
        "# to measure exec time \n",
        "from timeit import default_timer as timer \n",
        "import time\n",
        "\n",
        "# normal function to run on cpu \n",
        "def func(a):\t\t\t\t\t\t\t\t \n",
        "\tfor i in range(5000000): \n",
        "\t\ta[i]+= 1\t\n",
        "\n",
        "# function optimized to run on gpu \n",
        "@jit\n",
        "#(target =\"cuda\")\t\t\t\t\t\t \n",
        "def func2(a): \n",
        "\tfor i in range(5000000): \n",
        "\t\ta[i]+= 1\n",
        "if __name__==\"__main__\": \n",
        "\tn = 5000000\t\t\t\t\t\t\t\n",
        "\ta = np.ones(n, dtype = np.float64) \n",
        "\tb = np.ones(n, dtype = np.float32) \n",
        "\t\n",
        "\tstart = timer() \n",
        " \n",
        "\tfunc(a) \n",
        "  \n",
        "\tprint(\"without GPU:\", timer()-start)\t \n",
        "\t\n",
        "\tstart = timer() \n",
        "func2(a) \n",
        "print(\"with GPU:\", timer()-start) \n",
        "import matplotlib.pyplot as plt\n",
        "import numpy as np\n",
        "plt.title(\"CPU Vs GPU TIME\")\n",
        "plt.xlabel('Time in second')\n",
        "plt.ylabel('number')\n",
        "plt.plot([2.282669633000296,4.837626839000222],[5000000,10000000],label='CPU time')\n",
        "plt.plot([0.05965698399995745,0.0645296880002206],[5000000,10000000],label='GPU time')\n",
        "plt.legend() \n"
      ],
      "execution_count": null,
      "outputs": [
        {
          "name": "stdout",
          "output_type": "stream",
          "text": [
            "without GPU: 2.8099257150001904\n",
            "with GPU: 0.0872709779998786\n"
          ]
        },
        {
          "data": {
            "text/plain": [
              "<matplotlib.legend.Legend at 0x7f2ded0adf50>"
            ]
          },
          "execution_count": 5,
          "metadata": {},
          "output_type": "execute_result"
        },
        {
          "data": {
            "image/png": "[encoded data removed]",
            "text/plain": [
              "<Figure size 432x288 with 1 Axes>"
            ]
          },
          "metadata": {},
          "output_type": "display_data"
        }
      ]
    },
    {
      "cell_type": "code",
      "metadata": {
        "colab": {
          "base_uri": "https://localhost:8080/"
        },
        "id": "60cYix19XHkJ",
        "outputId": "77b2b376-1f92-4bc7-bf34-dbd983d5549d"
      },
      "source": [
        "import multiprocessing as mp \n",
        "import os \n",
        "  \n",
        "def square(n): \n",
        "    print(\"Worker process id for {0}: {1}\".format(n, os.getpid())) \n",
        "    return (n*n) \n",
        "  \n",
        "if __name__ == \"__main__\": \n",
        "    # input list \n",
        "    mylist = [1,2,3,4,5] \n",
        "  \n",
        "    # creating a pool object \n",
        "    p = mp.Pool() \n",
        "  \n",
        "    # map list to target function \n",
        "    result = p.map(square, mylist) \n",
        "  \n",
        "    print(result)\n"
      ],
      "execution_count": null,
      "outputs": [
        {
          "name": "stdout",
          "output_type": "stream",
          "text": [
            "Worker process id for 1: 192\n",
            "Worker process id for 3: 192\n",
            "Worker process id for 4: 192\n",
            "Worker process id for 2: 193\n",
            "Worker process id for 5: 193\n",
            "[1, 4, 9, 16, 25]\n"
          ]
        }
      ]
    },
    {
      "cell_type": "markdown",
      "metadata": {
        "id": "VsUp3ZZmjlo8"
      },
      "source": [
        "# **Assignment - 4**"
      ]
    },
    {
      "cell_type": "markdown",
      "metadata": {
        "id": "O1vtS26noy3G"
      },
      "source": [
        "**Program : Write a python program using pool class to find a square of the list.**"
      ]
    },
    {
      "cell_type": "code",
      "metadata": {
        "colab": {
          "base_uri": "https://localhost:8080/"
        },
        "id": "N0DPgG97YJDK",
        "outputId": "e79fc038-7929-4718-da77-2228d60f7790"
      },
      "source": [
        "import multiprocessing as mp \n",
        "import os \n",
        "from timeit import default_timer as timer \n",
        "import time\n",
        "  \n",
        "def square(n): \n",
        "    return (n*n) \n",
        "  \n",
        "if __name__ == \"__main__\": \n",
        "    # input list \n",
        "    mylist = [1,2,3,4,5] \n",
        "  \n",
        "    # creating a pool object \n",
        "    p = mp.Pool() \n",
        "    start = timer() \n",
        "    # map list to target function \n",
        "    result = p.map(square, mylist) \n",
        "  \n",
        "    print(result)\n",
        "    print(\"time taken : \",timer()-start)"
      ],
      "execution_count": null,
      "outputs": [
        {
          "name": "stdout",
          "output_type": "stream",
          "text": [
            "[1, 4, 9, 16, 25]\n",
            "time taken :  0.0023095060000741796\n"
          ]
        }
      ]
    },
    {
      "cell_type": "markdown",
      "metadata": {
        "id": "ae7diqPdStye"
      },
      "source": [
        "# **DATE : 29-09-2021**"
      ]
    },
    {
      "cell_type": "markdown",
      "metadata": {
        "id": "NlmkACTBX-Am"
      },
      "source": [
        "**Sequential and Parallel operation to perform the power operation**"
      ]
    },
    {
      "cell_type": "code",
      "metadata": {
        "colab": {
          "base_uri": "https://localhost:8080/"
        },
        "id": "ySTqhvTc7NJJ",
        "outputId": "e11742ac-51db-4bbb-f36c-522398305fcf"
      },
      "source": [
        "#WITH 3 ELEMENTS\n",
        "import time\n",
        "from timeit import default_timer as timer\n",
        "from multiprocessing import Pool, cpu_count\n",
        "\n",
        "\n",
        "def power(x, n):\n",
        "\n",
        "    time.sleep(1)\n",
        "\n",
        "    return x ** n\n",
        "\n",
        "\n",
        "def main():\n",
        "\n",
        "    start = timer()\n",
        "\n",
        "    print(f'starting computations on {cpu_count()} cores')\n",
        "\n",
        "    values = [2, 4,5]\n",
        "    values1=[2,3,5]\n",
        "    res = list(map(power,values,values1))\n",
        "    print(res)\n",
        "    end = timer()\n",
        "    print(f'elapsed time: {end - start}')\n",
        "\n",
        "\n",
        "if __name__ == '__main__':\n",
        "    main()\n"
      ],
      "execution_count": null,
      "outputs": [
        {
          "name": "stdout",
          "output_type": "stream",
          "text": [
            "starting computations on 2 cores\n",
            "[4, 64, 3125]\n",
            "elapsed time: 3.0037849670000014\n"
          ]
        }
      ]
    },
    {
      "cell_type": "code",
      "metadata": {
        "colab": {
          "base_uri": "https://localhost:8080/"
        },
        "id": "BGJPcGwRW7aA",
        "outputId": "ebc1abcc-c26f-4986-925e-58b7ad8c984f"
      },
      "source": [
        "#WITH 6 ELEMENTS\n",
        "import time\n",
        "from timeit import default_timer as timer\n",
        "from multiprocessing import Pool, cpu_count\n",
        "\n",
        "\n",
        "def power(x, n):\n",
        "\n",
        "    time.sleep(1)\n",
        "\n",
        "    return x ** n\n",
        "\n",
        "\n",
        "def main():\n",
        "\n",
        "    start = timer()\n",
        "\n",
        "    print(f'starting computations on {cpu_count()} cores')\n",
        "\n",
        "    values = [2, 4,5,6,7,8]\n",
        "    values1=[2,3,5,6,7,8]\n",
        "    res = list(map(power,values,values1))\n",
        "    print(res)\n",
        "    end = timer()\n",
        "    print(f'elapsed time: {end - start}')\n",
        "\n",
        "\n",
        "if __name__ == '__main__':\n",
        "    main()\n"
      ],
      "execution_count": null,
      "outputs": [
        {
          "name": "stdout",
          "output_type": "stream",
          "text": [
            "starting computations on 2 cores\n",
            "[4, 64, 3125, 46656, 823543, 16777216]\n",
            "elapsed time: 6.00826880999989\n"
          ]
        }
      ]
    },
    {
      "cell_type": "code",
      "metadata": {
        "colab": {
          "base_uri": "https://localhost:8080/"
        },
        "id": "xWTvPduqS74K",
        "outputId": "a9b34f81-0399-4265-e3c6-dbf46df651f5"
      },
      "source": [
        "#WITH 9 ELEMENTS\n",
        "import time\n",
        "from timeit import default_timer as timer\n",
        "from multiprocessing import Pool, cpu_count\n",
        "\n",
        "\n",
        "def power(x, n):\n",
        "\n",
        "    time.sleep(1)\n",
        "\n",
        "    return x ** n\n",
        "\n",
        "\n",
        "def main():\n",
        "\n",
        "    start = timer()\n",
        "\n",
        "    print(f'starting computations on {cpu_count()} cores')\n",
        "\n",
        "    values = [2, 4,5,6,7,8,2,4,5]\n",
        "    values1=[2,3,5,6,7,8,2,4,5]\n",
        "    res = list(map(power,values,values1))\n",
        "    print(res)\n",
        "    end = timer()\n",
        "    print(f'elapsed time: {end - start}')\n",
        "\n",
        "\n",
        "if __name__ == '__main__':\n",
        "    main()\n"
      ],
      "execution_count": null,
      "outputs": [
        {
          "name": "stdout",
          "output_type": "stream",
          "text": [
            "starting computations on 2 cores\n",
            "[4, 64, 3125, 46656, 823543, 16777216, 4, 256, 3125]\n",
            "elapsed time: 9.01075271000002\n"
          ]
        }
      ]
    },
    {
      "cell_type": "code",
      "metadata": {
        "colab": {
          "base_uri": "https://localhost:8080/"
        },
        "id": "YqhAzbMYRlx4",
        "outputId": "a1a715fa-5e50-4833-d11d-1cf0ad2e71e8"
      },
      "source": [
        "import time\n",
        "from timeit import default_timer as timer\n",
        "from multiprocessing import Pool, cpu_count\n",
        "\n",
        "\n",
        "def power(x, n):\n",
        "\n",
        "    time.sleep(1)\n",
        "\n",
        "    return x ** n\n",
        "\n",
        "\n",
        "def main():\n",
        "\n",
        "    start = timer()\n",
        "\n",
        "    print(f'starting computations on {cpu_count()} cores')\n",
        "\n",
        "    values = ((2, 2), (4, 3), (5, 5),(2,1))\n",
        "\n",
        "    with Pool() as pool:\n",
        "        res = pool.starmap(power, values)\n",
        "        print(res)\n",
        "\n",
        "    end = timer()\n",
        "    print(f'elapsed time: {end - start}')\n",
        "\n",
        "if __name__ == '__main__':\n",
        "    main()\n"
      ],
      "execution_count": null,
      "outputs": [
        {
          "name": "stdout",
          "output_type": "stream",
          "text": [
            "starting computations on 2 cores\n",
            "[4, 64, 3125, 2]\n",
            "elapsed time: 2.0506774560000167\n"
          ]
        }
      ]
    },
    {
      "cell_type": "code",
      "metadata": {
        "colab": {
          "base_uri": "https://localhost:8080/"
        },
        "id": "zqqaO8GrSJGf",
        "outputId": "ce559b4b-1fa9-473e-efd2-17f67205de54"
      },
      "source": [
        "import time\n",
        "from timeit import default_timer as timer\n",
        "from multiprocessing import Pool, cpu_count\n",
        "\n",
        "\n",
        "def power(x, n):\n",
        "\n",
        "    time.sleep(1)\n",
        "\n",
        "    return x ** n\n",
        "\n",
        "\n",
        "def main():\n",
        "\n",
        "    start = timer()\n",
        "\n",
        "    print(f'starting computations on {cpu_count()} cores')\n",
        "\n",
        "    values = ((2, 2), (4, 3), (5, 5),(6,5),(7,6),(8,7))\n",
        "\n",
        "    with Pool() as pool:\n",
        "        res = pool.starmap(power, values)\n",
        "        print(res)\n",
        "\n",
        "    end = timer()\n",
        "    print(f'elapsed time: {end - start}')\n",
        "\n",
        "if __name__ == '__main__':\n",
        "    main()\n",
        "\n",
        "\n"
      ],
      "execution_count": null,
      "outputs": [
        {
          "name": "stdout",
          "output_type": "stream",
          "text": [
            "starting computations on 2 cores\n",
            "[4, 64, 3125, 7776, 117649, 2097152]\n",
            "elapsed time: 3.1443500579998727\n"
          ]
        }
      ]
    },
    {
      "cell_type": "code",
      "metadata": {
        "colab": {
          "base_uri": "https://localhost:8080/"
        },
        "id": "Kw7GxIV3lETf",
        "outputId": "2a5426a8-ba4c-4804-ff63-a9b7a73ce598"
      },
      "source": [
        "import time\n",
        "from timeit import default_timer as timer\n",
        "from multiprocessing import Pool, cpu_count\n",
        "\n",
        "\n",
        "def power(x, n):\n",
        "\n",
        "    time.sleep(1)\n",
        "\n",
        "    return x ** n\n",
        "\n",
        "\n",
        "def main():\n",
        "\n",
        "    start = timer()\n",
        "\n",
        "    print(f'starting computations on {cpu_count()} cores')\n",
        "\n",
        "    values = ((2, 2), (4, 3), (5, 5),(6,5),(7,6),(8,7),(2, 2), (4, 3), (5, 5))\n",
        "\n",
        "    with Pool() as pool:\n",
        "        res = pool.starmap(power, values)\n",
        "        print(res)\n",
        "\n",
        "    end = timer()\n",
        "    print(f'elapsed time: {end - start}')\n",
        "\n",
        "if __name__ == '__main__':\n",
        "    main()\n",
        "\n",
        "\n"
      ],
      "execution_count": null,
      "outputs": [
        {
          "name": "stdout",
          "output_type": "stream",
          "text": [
            "starting computations on 2 cores\n",
            "[4, 64, 3125, 7776, 117649, 2097152, 4, 64, 3125]\n",
            "elapsed time: 5.042080633999831\n"
          ]
        }
      ]
    },
    {
      "cell_type": "markdown",
      "metadata": {
        "id": "nrgXluisazH6"
      },
      "source": [
        "**Plotting :**"
      ]
    },
    {
      "cell_type": "code",
      "metadata": {
        "colab": {
          "base_uri": "https://localhost:8080/",
          "height": 265
        },
        "id": "Lszd6G6DSGb2",
        "outputId": "b046cb04-7c4b-4e5d-e337-845a6f0e7b68"
      },
      "source": [
        "import matplotlib.pyplot as plt\n",
        "x = [5, 2, 9, 4, 7] \n",
        "  \n",
        "# Y-axis values \n",
        "y = [10, 5, 8, 4, 2] \n",
        "  \n",
        "# Function to plot \n",
        "plt.plot(x,y) \n",
        "  \n",
        "# function to show the plot \n",
        "plt.show() "
      ],
      "execution_count": null,
      "outputs": [
        {
          "data": {
            "image/png": "[encoded data removed]",
            "text/plain": [
              "<Figure size 432x288 with 1 Axes>"
            ]
          },
          "metadata": {},
          "output_type": "display_data"
        }
      ]
    },
    {
      "cell_type": "code",
      "metadata": {
        "colab": {
          "base_uri": "https://localhost:8080/",
          "height": 265
        },
        "id": "zPawe0GqtaKv",
        "outputId": "dedafacb-14a8-48c1-bb19-b4147cca84c5"
      },
      "source": [
        "import matplotlib.pyplot as plt\n",
        "x = [5, 2, 9, 4, 7] \n",
        "  \n",
        "# Y-axis values \n",
        "y = [10, 5, 8, 4, 2] \n",
        "  \n",
        "# Function to plot the bar \n",
        "plt.bar(x,y) \n",
        "plt.ylabel('some numbers')\n",
        "# function to show the plot \n",
        "plt.show() \n"
      ],
      "execution_count": null,
      "outputs": [
        {
          "data": {
            "image/png": "[encoded data removed]",
            "text/plain": [
              "<Figure size 432x288 with 1 Axes>"
            ]
          },
          "metadata": {},
          "output_type": "display_data"
        }
      ]
    },
    {
      "cell_type": "code",
      "metadata": {
        "colab": {
          "base_uri": "https://localhost:8080/",
          "height": 312
        },
        "id": "KkyFreasZhMz",
        "outputId": "264c448a-1e0e-46a6-c362-733f47d9ef53"
      },
      "source": [
        "import matplotlib.pyplot as plt\n",
        "import numpy as np\n",
        "plt.title(\"Sequential time Vs Parallel time\")\n",
        "plt.xlabel('Time in second')\n",
        "plt.ylabel('Data length')\n",
        "plt.plot([3.00,6.006,9.007],[3,6,9],label='Sequential time')\n",
        "plt.plot([2.02,3.02,5.036],[3,6,9],label='Parallel time')\n",
        "plt.legend()\n"
      ],
      "execution_count": null,
      "outputs": [
        {
          "data": {
            "text/plain": [
              "<matplotlib.legend.Legend at 0x7f1e2a902490>"
            ]
          },
          "execution_count": 10,
          "metadata": {},
          "output_type": "execute_result"
        },
        {
          "data": {
            "image/png": "[encoded data removed]",
            "text/plain": [
              "<Figure size 432x288 with 1 Axes>"
            ]
          },
          "metadata": {},
          "output_type": "display_data"
        }
      ]
    },
    {
      "cell_type": "code",
      "metadata": {
        "colab": {
          "base_uri": "https://localhost:8080/",
          "height": 312
        },
        "id": "eC6qVddpdvcx",
        "outputId": "f832da95-0688-4349-9412-9f0067e53424"
      },
      "source": [
        "import matplotlib.pyplot as plt\n",
        "import numpy as np\n",
        "plt.title(\"Speed Up Graph\")\n",
        "plt.xlabel(\"speed up\")\n",
        "plt.ylabel(\"data length\")\n",
        "plt.plot([1.485,1.988,1.788],[3,6,9],label=\"speed up\")\n",
        "plt.legend()"
      ],
      "execution_count": null,
      "outputs": [
        {
          "data": {
            "text/plain": [
              "<matplotlib.legend.Legend at 0x7f11bd0a17d0>"
            ]
          },
          "execution_count": 5,
          "metadata": {},
          "output_type": "execute_result"
        },
        {
          "data": {
            "image/png": "[encoded data removed]",
            "text/plain": [
              "<Figure size 432x288 with 1 Axes>"
            ]
          },
          "metadata": {},
          "output_type": "display_data"
        }
      ]
    },
    {
      "cell_type": "markdown",
      "metadata": {
        "id": "mzGG9ZeQuNis"
      },
      "source": [
        "# **Assignment-5**"
      ]
    },
    {
      "cell_type": "markdown",
      "metadata": {
        "id": "Zr_KZCXEvVzq"
      },
      "source": [
        "**Q1.Write a python program to convert degree celcius to farheinheit in both sequential and Multiprocessing by using the pool class, also draw a graph between sequential time and mp, also draw speedup graph**"
      ]
    },
    {
      "cell_type": "code",
      "metadata": {
        "colab": {
          "base_uri": "https://localhost:8080/"
        },
        "id": "lHLfypwZaWQ9",
        "outputId": "cbe2f77b-0c2e-4f27-83fb-99c46d5b508e"
      },
      "source": [
        "#sequential\n",
        "import time\n",
        "from timeit import default_timer as timer\n",
        "from multiprocessing import Pool, cpu_count\n",
        "import os\n",
        "\n",
        "def fahrenheit(x):\n",
        "\n",
        "    time.sleep(1)\n",
        "    return (x *(9/5))+32;\n",
        "\n",
        "\n",
        "def main():\n",
        "    start = timer()\n",
        "\n",
        "    print(f'starting computations on {cpu_count()} cores')\n",
        "\n",
        "    values = [0,32,98,127,200,57,170]\n",
        "    result = list(map(fahrenheit,values))\n",
        "    print(result)\n",
        "    end = timer()\n",
        "    print(f'elapsed time: {end - start}')\n",
        "\n",
        "\n",
        "if __name__ == '__main__':\n",
        "    main()"
      ],
      "execution_count": null,
      "outputs": [
        {
          "name": "stdout",
          "output_type": "stream",
          "text": [
            "starting computations on 2 cores\n",
            "[32.0, 89.6, 208.4, 260.6, 392.0, 134.60000000000002, 338.0]\n",
            "elapsed time: 7.0081333579998955\n"
          ]
        }
      ]
    },
    {
      "cell_type": "code",
      "metadata": {
        "colab": {
          "base_uri": "https://localhost:8080/"
        },
        "id": "OIvByTDLEMLm",
        "outputId": "eed77a9f-6370-41ef-9a3f-0e2b42ac19f7"
      },
      "source": [
        "#multiprocessing\n",
        "import time\n",
        "from timeit import default_timer as timer\n",
        "from multiprocessing import Pool, cpu_count\n",
        "import os\n",
        "\n",
        "def fahrenheit(x):\n",
        "\n",
        "    time.sleep(1)\n",
        "    return (x *(9/5))+32;\n",
        "\n",
        "\n",
        "def main():\n",
        "\n",
        "    start = timer()\n",
        "\n",
        "    print(f'starting computations on {cpu_count()} cores')\n",
        "\n",
        "    values = [0,32,98,127,200,57,170]\n",
        "    with Pool() as pool:\n",
        "        result = list(pool.map(fahrenheit, values))\n",
        "        print(result)\n",
        "\n",
        "    end = timer()\n",
        "    print(f'elapsed time: {end - start}')\n",
        "  \n",
        "if __name__ == '__main__':\n",
        "    main()"
      ],
      "execution_count": null,
      "outputs": [
        {
          "name": "stdout",
          "output_type": "stream",
          "text": [
            "starting computations on 2 cores\n",
            "[32.0, 89.6, 208.4, 260.6, 392.0, 134.60000000000002, 338.0]\n",
            "elapsed time: 4.042883679999932\n"
          ]
        }
      ]
    },
    {
      "cell_type": "code",
      "metadata": {
        "colab": {
          "base_uri": "https://localhost:8080/",
          "height": 312
        },
        "id": "e3thTulDaj1e",
        "outputId": "035ec79f-ee7e-4b29-b61c-93b4abe47c7b"
      },
      "source": [
        "import matplotlib.pyplot as plt\n",
        "import numpy as np\n",
        "plt.title(\"Sequential time Vs Parallel time\")\n",
        "plt.xlabel('Time in Second')\n",
        "plt.ylabel('Data length')\n",
        "plt.plot([3.003,5.004,7.008],[3,5,7],label='Sequential time')\n",
        "plt.plot([2.126,3.127,4.030],[3,5,7],label='Parallel time')\n",
        "plt.legend()"
      ],
      "execution_count": null,
      "outputs": [
        {
          "data": {
            "text/plain": [
              "<matplotlib.legend.Legend at 0x7fd80c6f5290>"
            ]
          },
          "execution_count": 5,
          "metadata": {},
          "output_type": "execute_result"
        },
        {
          "data": {
            "image/png": "[encoded data removed]",
            "text/plain": [
              "<Figure size 432x288 with 1 Axes>"
            ]
          },
          "metadata": {},
          "output_type": "display_data"
        }
      ]
    },
    {
      "cell_type": "markdown",
      "metadata": {
        "id": "6dsrZ7ihaG0_"
      },
      "source": [
        "**speed up**"
      ]
    },
    {
      "cell_type": "code",
      "metadata": {
        "colab": {
          "base_uri": "https://localhost:8080/",
          "height": 312
        },
        "id": "dmp7bWQCarqh",
        "outputId": "404dcca9-c4cb-4411-e19e-5303ef858c09"
      },
      "source": [
        "import matplotlib.pyplot as plt\n",
        "import numpy as np\n",
        "plt.title(\"Speed Up\")\n",
        "plt.xlabel('SpeedUp')\n",
        "plt.ylabel('Data length')\n",
        "plt.plot([1.412,1.600,1.738],[3,5,7],label='SpeedUp')\n",
        "plt.legend()"
      ],
      "execution_count": null,
      "outputs": [
        {
          "data": {
            "text/plain": [
              "<matplotlib.legend.Legend at 0x7fd80c75e2d0>"
            ]
          },
          "execution_count": 4,
          "metadata": {},
          "output_type": "execute_result"
        },
        {
          "data": {
            "image/png": "[encoded data removed]",
            "text/plain": [
              "<Figure size 432x288 with 1 Axes>"
            ]
          },
          "metadata": {},
          "output_type": "display_data"
        }
      ]
    },
    {
      "cell_type": "markdown",
      "metadata": {
        "id": "oSeSq3f1xWXr"
      },
      "source": [
        "**Q2.Write a program to find out weather the square of the number is odd or even by using process and pool class of multiprocessing module**"
      ]
    },
    {
      "cell_type": "code",
      "metadata": {
        "colab": {
          "base_uri": "https://localhost:8080/"
        },
        "id": "7liZQq-p_-sv",
        "outputId": "5c2e049c-adff-469f-dd81-e1765c96deed"
      },
      "source": [
        "import multiprocessing as mp \n",
        "import os \n",
        "from timeit import default_timer as timer \n",
        "import time\n",
        "\n",
        "def square(n):\n",
        "     \n",
        "    square = (n*n)\n",
        "    if (square % 2 == 0):\n",
        "      return (\"Even number\")\n",
        "    else:\n",
        "      return (\"Odd number\")\n",
        "\n",
        "def main():\n",
        "\n",
        "      start = timer()\n",
        "\n",
        "      print(f'starting computations on {cpu_count()} cores')\n",
        "\n",
        "      values = [1,2,3,4]\n",
        "\n",
        "      result = list(map(square,values))\n",
        "      print(result)\n",
        "\n",
        "      end = timer()\n",
        "      print(f'elapsed time: {end - start}')\n",
        "\n",
        "if __name__ == '__main__':\n",
        "    main()\n",
        " "
      ],
      "execution_count": null,
      "outputs": [
        {
          "output_type": "stream",
          "name": "stdout",
          "text": [
            "starting computations on 2 cores\n",
            "['Odd number', 'Even number', 'Odd number', 'Even number']\n",
            "elapsed time: 0.001297971999974834\n"
          ]
        }
      ]
    },
    {
      "cell_type": "code",
      "metadata": {
        "colab": {
          "base_uri": "https://localhost:8080/"
        },
        "id": "fL3LzHiHFPqY",
        "outputId": "e24f5684-1949-47c4-9fca-a46fce433ffd"
      },
      "source": [
        "import os\n",
        "import time \n",
        "from timeit import default_timer as timer \n",
        "from multiprocessing import Pool, cpu_count\n",
        "\n",
        "def square(n):\n",
        "     \n",
        "    square = (n*n)\n",
        "    if (square % 2 == 0):\n",
        "      return (\"Even number\")\n",
        "    else:\n",
        "      return (\"Odd number\")\n",
        "\n",
        "def main():\n",
        "\n",
        "    start = timer()\n",
        "\n",
        "    print(f'starting computations on {cpu_count()} cores')\n",
        "\n",
        "    values = [1,2,3,4]\n",
        "    with Pool() as pool:\n",
        "        result = list(pool.map(square,values))\n",
        "        print(result)\n",
        "\n",
        "    end = timer()\n",
        "    print(f'elapsed time: {end - start}')\n",
        "  \n",
        "if __name__ == '__main__':\n",
        "    main()\n",
        "\n"
      ],
      "execution_count": null,
      "outputs": [
        {
          "output_type": "stream",
          "name": "stdout",
          "text": [
            "starting computations on 2 cores\n",
            "['Odd number', 'Even number', 'Odd number', 'Even number']\n",
            "elapsed time: 0.12113012899999376\n"
          ]
        }
      ]
    },
    {
      "cell_type": "code",
      "metadata": {
        "colab": {
          "base_uri": "https://localhost:8080/"
        },
        "id": "mLegcGVUhtWZ",
        "outputId": "b882263f-5b26-42df-d224-b8a7f08949b0"
      },
      "source": [
        "import time\n",
        "from timeit import default_timer as timer\n",
        "from multiprocessing import pool, cpu_count, Process\n",
        "import os\n",
        "import math\n",
        "\n",
        "def Square(x):\n",
        "  time.sleep(1)\n",
        "  sqr= x ** 2\n",
        "  print(\"Child process id:\", os.getpid())\n",
        "  if x % 2 == 0:\n",
        "    return 'even'\n",
        "  else:\n",
        "    return 'odd'\n",
        "def pool():\n",
        "  start = timer()\n",
        "  print(f'starting computations on {cpu_count()} cores')\n",
        "  squareList=[1,2,3,4]\n",
        "  print(\"Length of items in squareList: \",len(squareList))\n",
        "  print(\"Parent process id:\", os.getpid())\n",
        "  with Pool() as pool:\n",
        "    res=list(pool.map(Square,squareList))\n",
        "    print(res)\n",
        "  end = timer()\n",
        "  print(f'elapsed time: {end - start}')\n",
        "\n",
        "\n",
        "def process():\n",
        "    start = timer()\n",
        "    print(f'starting computations on {cpu_count()} cores')\n",
        "    squareList=[1,2,3,4]\n",
        "    print(\"Length of items in squareList: \",len(squareList))\n",
        "    print(\"Parent process id:\", os.getpid())\n",
        "    procs = []\n",
        "\n",
        "    # instantiating process with arguments\n",
        "    for num in squareList:\n",
        "        proc = Process(target=Square, args=(num,))\n",
        "        procs.append(proc)\n",
        "        proc.start()\n",
        "\n",
        "    # complete the processes\n",
        "    for proc in procs:\n",
        "        proc.join()\n",
        "    \n",
        "    end = timer()\n",
        "    print(f'elapsed time: {end - start}')\n",
        "\n",
        "print(\"Pool Class...\")\n",
        "pool()\n",
        "\n",
        "\n",
        "\n",
        "print(\"\\n---------------\")\n",
        "print(\"Process Class.....\")\n",
        "process()"
      ],
      "execution_count": null,
      "outputs": [
        {
          "output_type": "stream",
          "name": "stdout",
          "text": [
            "Pool Class...\n",
            "starting computations on 2 cores\n",
            "Length of items in squareList:  4\n",
            "Parent process id: 68\n",
            "Child process id: 462\n",
            "Child process id: 463\n",
            "Child process id: 462\n",
            "Child process id: 463\n",
            "['odd', 'even', 'odd', 'even']\n",
            "elapsed time: 2.120056933000342\n",
            "\n",
            "---------------\n",
            "Process Class.....\n",
            "starting computations on 2 cores\n",
            "Length of items in squareList:  4\n",
            "Parent process id: 68\n",
            "Child process id: 475\n",
            "Child process id: 476\n",
            "Child process id: 477\n",
            "Child process id: 478\n",
            "elapsed time: 1.0380800709999676\n"
          ]
        }
      ]
    },
    {
      "cell_type": "code",
      "metadata": {
        "colab": {
          "base_uri": "https://localhost:8080/",
          "height": 281
        },
        "id": "3z7LXOEegbXW",
        "outputId": "aa83138f-9331-4754-e18d-fe9b79a0eecc"
      },
      "source": [
        "import matplotlib.pyplot as plt\n",
        "\n",
        "_ = plt.ylabel('Time taken in seconds')\n",
        "_ = plt.title('Pool vs Process')\n",
        "_ = plt.bar(['Pool', 'Process'], [2.2100, 1.0380])"
      ],
      "execution_count": null,
      "outputs": [
        {
          "output_type": "display_data",
          "data": {
            "image/png": "[encoded data removed]",
            "text/plain": [
              "<Figure size 432x288 with 1 Axes>"
            ]
          },
          "metadata": {
            "needs_background": "light"
          }
        }
      ]
    },
    {
      "cell_type": "markdown",
      "metadata": {
        "id": "9AAp27xMxuWz"
      },
      "source": [
        "**Q3.Write differences between pool and process class in python multiprocessing**\n",
        "\n",
        "   **Ans:** Difference between Pool and Process in Python multiprocessing class:\n",
        "\n",
        "**Pool:**    \n",
        "* When you have junk of data, you can use Pool class.\n",
        "* Only the process under execution are kept in the memory.\n",
        "* I/O operation: It waits till the I/O operation is completed & does not schedule another process. \n",
        "* This might increase the execution time.\n",
        "\n",
        "\n",
        "**Process:**\n",
        "\n",
        "* When you have a small data or functions and less repetitive tasks to do.\n",
        "* It puts all the process in the memory. Hence in the larger task, it might cause to loss of memory.\n",
        "* I/O operation: The process class suspends the process executing I/O operations and schedule another process parallel.\n",
        "\n"
      ]
    },
    {
      "cell_type": "markdown",
      "metadata": {
        "id": "rpIrQAoVyArk"
      },
      "source": [
        "**Q4.What are the join class and start class**\n",
        "\n",
        "Start the process’s activity. This must be called at most once per process object. It arranges for the object’s run() method to be invoked in a separate process.\n",
        "\n",
        "**join( [timeout] ) :**\n",
        "\n",
        "* If the optional argument timeout is None (the default),the method blocks until the process whose join() method is called terminates. If timeout is a positive number, it blocks at most timeout seconds. Note that the method returns None if its process terminates or if the method times out. Check the process’s exitcode to determine if it terminated.\n",
        "* A process can be joined many times.\n",
        "* A process cannot join itself because this would cause a deadlock. It is an error to attempt to join a process before it has been started.\n",
        "\n",
        "**start():**\n",
        "\n",
        "Start the process’s activity. This must be called at most once per process object. It arranges for the object’s run() method to be invoked in a separate process.\n"
      ]
    },
    {
      "cell_type": "markdown",
      "metadata": {
        "id": "nP4MIEFVHlTD"
      },
      "source": [
        "# **DATE : 06-10-2021**"
      ]
    },
    {
      "cell_type": "markdown",
      "metadata": {
        "id": "JZq0wQsOl5IN"
      },
      "source": [
        "**Object : Print the Ids of Child and Parent**"
      ]
    },
    {
      "cell_type": "code",
      "metadata": {
        "colab": {
          "base_uri": "https://localhost:8080/"
        },
        "id": "cIqINaKGHyzA",
        "outputId": "a6537c7e-941a-4522-9013-86e584824347"
      },
      "source": [
        "from multiprocessing import Process\n",
        "import os\n",
        "\n",
        "def fun():\n",
        "\n",
        "    print('--------------------------')\n",
        "\n",
        "    print('calling fun')\n",
        "    print('parent process id:', os.getppid())\n",
        "    print('process id:', os.getpid())\n",
        "\n",
        "def main():\n",
        "\n",
        "    print('main fun')\n",
        "    print('process id:', os.getpid())\n",
        "\n",
        "    p1 = Process(target=fun)\n",
        "    p1.start()\n",
        "    p1.join()\n",
        "\n",
        "    p2 = Process(target=fun)\n",
        "    p2.start()\n",
        "    p2.join()\n",
        "\n",
        "\n",
        "if __name__ == '__main__':\n",
        "    main()\n"
      ],
      "execution_count": null,
      "outputs": [
        {
          "name": "stdout",
          "output_type": "stream",
          "text": [
            "main fun\n",
            "process id: 65\n",
            "--------------------------\n",
            "calling fun\n",
            "parent process id: 65\n",
            "process id: 385\n",
            "--------------------------\n",
            "calling fun\n",
            "parent process id: 65\n",
            "process id: 394\n"
          ]
        }
      ]
    },
    {
      "cell_type": "markdown",
      "metadata": {
        "id": "lw3MhIhimXt3"
      },
      "source": [
        "**Write a program to square and cube of a list using Process class of multiprocessing module**"
      ]
    },
    {
      "cell_type": "code",
      "metadata": {
        "colab": {
          "base_uri": "https://localhost:8080/",
          "height": 380
        },
        "id": "8nis7RWAaApK",
        "outputId": "f3d0ed57-a655-4dd4-a647-98fb1534f379"
      },
      "source": [
        "import multiprocessing as mp \n",
        "import os \n",
        "import time\n",
        "from timeit import default_timer as timer\n",
        "import matplotlib.pyplot as plt\n",
        "\n",
        "def square(n): \n",
        "    #print(\"Worker process id for {0}: {1}\".format(n, os.getpid())) \n",
        "    print(n*n)\n",
        "def cube(n):\n",
        "  print(n*n*n) \n",
        "  \n",
        "if __name__ == \"__main__\":  \n",
        "    start=timer()\n",
        "    #creating a process class\n",
        "    p1=mp.Process(target=square,args=(6,))\n",
        "    p2=mp.Process(target=cube,args=(4,))\n",
        "    p1.start()\n",
        "    p1.join()\n",
        "    end1=timer()-start\n",
        "    print(\"time taken by sq\")\n",
        "    print(\"time taken by square  \" ,end1)\n",
        "    p2.start()\n",
        "    p2.join()\n",
        "    end2=timer()-start\n",
        "    print(\"time taken by cube  \" ,end2)\n",
        "    fig = plt.figure()\n",
        "    t = ['square', 'cube']\n",
        "    exe_time = [end1,end2]\n",
        "    plt.bar(t,exe_time, color ='green') \n",
        "    plt.xlabel(\"different functins\") \n",
        "    plt.ylabel(\"time taken\") \n",
        "    plt.title(\"time taken by square and cube function by process\")\n",
        "    plt.show()\n"
      ],
      "execution_count": null,
      "outputs": [
        {
          "name": "stdout",
          "output_type": "stream",
          "text": [
            "36\n",
            "time taken by sq\n",
            "time taken by square   0.02002010500018514\n",
            "64\n",
            "time taken by cube   0.03847537799993006\n"
          ]
        },
        {
          "data": {
            "image/png": "[encoded data removed]",
            "text/plain": [
              "<Figure size 432x288 with 1 Axes>"
            ]
          },
          "metadata": {},
          "output_type": "display_data"
        }
      ]
    },
    {
      "cell_type": "code",
      "metadata": {
        "colab": {
          "base_uri": "https://localhost:8080/",
          "height": 499
        },
        "id": "GHLPXc0TwFvI",
        "outputId": "f4369ace-c10f-4760-d0bf-4923d95e20e7"
      },
      "source": [
        "import multiprocessing as mp \n",
        "import os \n",
        "import time\n",
        "from timeit import default_timer as timer\n",
        "import matplotlib.pyplot as plt\n",
        "\n",
        "def square(n): \n",
        "    #print(\"Worker process id for {0}: {1}\".format(n, os.getpid())) \n",
        "    print(n*n)\n",
        "\n",
        "def cube(n):\n",
        "  print(n*n*n) \n",
        "  \n",
        "if __name__ == \"__main__\":  \n",
        "    start=timer()\n",
        "    #creating a process class\n",
        "    lst = [6,4,5,6,7]\n",
        "    p1 = []\n",
        "\n",
        "    # instantiating process with arguments\n",
        "    for num in lst:\n",
        "        proc = mp.Process(target=square, args=(num,))\n",
        "        p1.append(proc)\n",
        "        proc.start()\n",
        "\n",
        "    # complete the processes\n",
        "    for proc in p1:\n",
        "        proc.join()\n",
        "   \n",
        "    end1=timer()-start\n",
        "    print(\"time taken by square  \" ,end1)\n",
        "\n",
        "    p2 = []\n",
        "    # instantiating process with arguments\n",
        "    for num in lst:\n",
        "        proc = mp.Process(target=cube, args=(num,))\n",
        "        p2.append(proc)\n",
        "        proc.start()\n",
        "\n",
        "    # complete the processes\n",
        "    for proc in p2:\n",
        "        proc.join()\n",
        "    end2=timer()-start\n",
        "    print(\"time taken by cube  \" ,end2)\n",
        "\n",
        "    fig = plt.figure()\n",
        "    t = ['square', 'cube']\n",
        "    exe_time = [end1,end2]\n",
        "    plt.bar(t,exe_time, color ='green') \n",
        "    plt.xlabel(\"different functins\") \n",
        "    plt.ylabel(\"time taken\") \n",
        "    plt.title(\"time taken by square and cube function by process\")\n",
        "    plt.show()"
      ],
      "execution_count": null,
      "outputs": [
        {
          "output_type": "stream",
          "name": "stdout",
          "text": [
            "36\n",
            "16\n",
            "25\n",
            "49\n",
            "36\n",
            "time taken by square   0.06643090700072207\n",
            "216\n",
            "125\n",
            "64\n",
            "216\n",
            "343\n",
            "time taken by cube   0.13262096100061171\n"
          ]
        },
        {
          "output_type": "display_data",
          "data": {
            "image/png": "[encoded data removed]",
            "text/plain": [
              "<Figure size 432x288 with 1 Axes>"
            ]
          },
          "metadata": {
            "needs_background": "light"
          }
        }
      ]
    },
    {
      "cell_type": "code",
      "metadata": {
        "colab": {
          "base_uri": "https://localhost:8080/"
        },
        "id": "QBJzB61De8zh",
        "outputId": "eeaad040-3a85-4518-c510-651881ee01fd"
      },
      "source": [
        "import time\n",
        "from timeit import default_timer as timer\n",
        "from multiprocessing import Pool, cpu_count \n",
        "\n",
        "def square(n):\n",
        "    time.sleep(2)\n",
        "    return (n*n)\n",
        "\n",
        "def cube(n):\n",
        "    time.sleep(2)\n",
        "    return (n*n*n)\n",
        "\n",
        "def main():\n",
        "    \n",
        "    start = timer()\n",
        "    print(f'starting computations on {cpu_count()} cores')\n",
        "\n",
        "    values = [1,2,3,4]\n",
        "    \n",
        "    with Pool() as pool:\n",
        "        result = list(pool.map(square,values))\n",
        "        print(result)\n",
        "        result1 = list(pool.map(cube, values))\n",
        "        print(result1)\n",
        "\n",
        "    end = timer()\n",
        "    print(f'elapsed time: {end - start}')\n",
        "  \n",
        "if __name__ == '__main__':\n",
        "    main()\n"
      ],
      "execution_count": null,
      "outputs": [
        {
          "name": "stdout",
          "output_type": "stream",
          "text": [
            "starting computations on 2 cores\n",
            "[1, 4, 9, 16]\n",
            "[1, 8, 27, 64]\n",
            "elapsed time: 8.037040016000901\n"
          ]
        }
      ]
    },
    {
      "cell_type": "markdown",
      "metadata": {
        "id": "RdkUfAREuCTv"
      },
      "source": [
        "**Write a program to square and cube of a list using Pool class of multiprocessing module**"
      ]
    },
    {
      "cell_type": "code",
      "metadata": {
        "colab": {
          "base_uri": "https://localhost:8080/",
          "height": 363
        },
        "id": "SHLoq5ios_DK",
        "outputId": "039d0c60-4c95-43d2-d0a1-a89455eec768"
      },
      "source": [
        "import multiprocessing as mp \n",
        "import os \n",
        "import time\n",
        "from timeit import default_timer as timer\n",
        "import matplotlib.pyplot as plt\n",
        "\n",
        "def square(n): \n",
        "    #print(\"Worker process id for {0}: {1}\".format(n, os.getpid())) \n",
        "    print(n*n)\n",
        "\n",
        "def cube(n):\n",
        "  print(n*n*n) \n",
        "  \n",
        "if __name__ == \"__main__\":  \n",
        "    start=timer()\n",
        "    #creating a pool class\n",
        "    p1 = mp.Pool().map(square, (6,))\n",
        "    end1=timer()-start\n",
        "    print(\"time taken by square  \" ,end1)\n",
        "\n",
        "    start=timer()\n",
        "    p2 = mp.Pool().map(cube, (6,))\n",
        "    end2=timer()-start\n",
        "    print(\"time taken by cube  \" ,end2)\n",
        "\n",
        "    fig = plt.figure()\n",
        "    t = ['square', 'cube']\n",
        "    exe_time = [end1,end2]\n",
        "    plt.bar(t,exe_time, color ='green') \n",
        "    plt.xlabel(\"different functins\") \n",
        "    plt.ylabel(\"time taken\") \n",
        "    plt.title(\"time taken by square and cube function by pool\")\n",
        "    plt.show()"
      ],
      "execution_count": null,
      "outputs": [
        {
          "output_type": "stream",
          "name": "stdout",
          "text": [
            "36\n",
            "time taken by square   0.019458114999906684\n",
            "216\n",
            "time taken by cube   0.02881354500004818\n"
          ]
        },
        {
          "output_type": "display_data",
          "data": {
            "image/png": "[encoded data removed]",
            "text/plain": [
              "<Figure size 432x288 with 1 Axes>"
            ]
          },
          "metadata": {
            "needs_background": "light"
          }
        }
      ]
    },
    {
      "cell_type": "code",
      "metadata": {
        "colab": {
          "base_uri": "https://localhost:8080/"
        },
        "id": "hVm3ybzpfdVN",
        "outputId": "455eb088-d7bc-4070-f02d-c30cc621f093"
      },
      "source": [
        "import time\n",
        "from timeit import default_timer as timer\n",
        "from multiprocessing import Pool, cpu_count\n",
        "\n",
        "\n",
        "def cube(n):\n",
        "\n",
        "    \n",
        "\n",
        "    return n * n *n\n",
        "\n",
        "\n",
        "def main():\n",
        "\n",
        "    start = timer()\n",
        "\n",
        "    print(f'starting computations on {cpu_count()} cores')\n",
        "\n",
        "    values = [6,4,5,6,7]\n",
        "\n",
        "    with Pool() as pool:\n",
        "        res = pool.map(square, values)\n",
        "        \n",
        "        print(res)\n",
        "\n",
        "        end = timer()\n",
        "    print(f'elapsed time: {end - start}')\n",
        "      \n",
        "if __name__ == '__main__':\n",
        "    main()"
      ],
      "execution_count": null,
      "outputs": [
        {
          "name": "stdout",
          "output_type": "stream",
          "text": [
            "starting computations on 2 cores\n",
            "[36, 16, 25, 36, 49]\n",
            "elapsed time: 6.0306479039991245\n"
          ]
        }
      ]
    },
    {
      "cell_type": "code",
      "metadata": {
        "colab": {
          "base_uri": "https://localhost:8080/",
          "height": 346
        },
        "id": "vnrNo0cIu6Jo",
        "outputId": "d0dfe4eb-0965-481e-c848-53daa513c9ee"
      },
      "source": [
        "import time\n",
        "from timeit import default_timer as timer\n",
        "from multiprocessing import Pool, cpu_count\n",
        "\n",
        "def square(n):\n",
        "    return n * n\n",
        "\n",
        "def cube(n):\n",
        "    return n * n * n\n",
        "\n",
        "def main():\n",
        "\n",
        "    print(f'starting computations on {cpu_count()} cores')\n",
        "\n",
        "    values = [6,4,5,6,7]\n",
        "\n",
        "    start=timer()\n",
        "    #creating a pool class\n",
        "    p1 = mp.Pool().map(square, values)\n",
        "    end1=timer()-start\n",
        "    print(\"time taken by square  \" ,end1)\n",
        "\n",
        "    start=timer()\n",
        "    p2 = mp.Pool().map(cube, values)\n",
        "    end2=timer()-start\n",
        "    print(\"time taken by cube  \" ,end2)\n",
        "    \n",
        "    fig = plt.figure()\n",
        "    t = ['square', 'cube']\n",
        "    exe_time = [end1,end2]\n",
        "    plt.bar(t,exe_time, color ='green') \n",
        "    plt.xlabel(\"different functins\") \n",
        "    plt.ylabel(\"time taken\") \n",
        "    plt.title(\"time taken by square and cube function by pool\")\n",
        "    plt.show()\n",
        "\n",
        "if __name__ == '__main__':\n",
        "    main()"
      ],
      "execution_count": null,
      "outputs": [
        {
          "output_type": "stream",
          "name": "stdout",
          "text": [
            "starting computations on 2 cores\n",
            "time taken by square   0.02201655499993649\n",
            "time taken by cube   0.02392318999955023\n"
          ]
        },
        {
          "output_type": "display_data",
          "data": {
            "image/png": "[encoded data removed]",
            "text/plain": [
              "<Figure size 432x288 with 1 Axes>"
            ]
          },
          "metadata": {
            "needs_background": "light"
          }
        }
      ]
    },
    {
      "cell_type": "code",
      "metadata": {
        "colab": {
          "base_uri": "https://localhost:8080/",
          "height": 312
        },
        "id": "NkOAq2bCpyIW",
        "outputId": "4fabc67f-621b-485c-9c36-6536e1513ea5"
      },
      "source": [
        "import matplotlib.pyplot as plt\n",
        "import numpy as np\n",
        "plt.title(\"Process class time v/s Pool class time-Square\")\n",
        "plt.xlabel('Data size')\n",
        "plt.ylabel('Time taken in seconds')\n",
        "\n",
        "plt.plot([1,5],[0.0204,0.0738],label='Process class time')\n",
        "plt.plot([1,5],[0.0270,0.0273],label='Pool class time')\n",
        "plt.legend()"
      ],
      "execution_count": null,
      "outputs": [
        {
          "output_type": "execute_result",
          "data": {
            "text/plain": [
              "<matplotlib.legend.Legend at 0x7f05df400d10>"
            ]
          },
          "metadata": {},
          "execution_count": 34
        },
        {
          "output_type": "display_data",
          "data": {
            "image/png": "[encoded data removed]",
            "text/plain": [
              "<Figure size 432x288 with 1 Axes>"
            ]
          },
          "metadata": {
            "needs_background": "light"
          }
        }
      ]
    },
    {
      "cell_type": "code",
      "metadata": {
        "colab": {
          "base_uri": "https://localhost:8080/",
          "height": 312
        },
        "id": "irWJxfMMqViU",
        "outputId": "91b4152c-dd10-4d78-ac2e-cb7bf98abf95"
      },
      "source": [
        "import numpy as np\n",
        "import matplotlib.pyplot as plt\n",
        "plt.title(\"Process class time v/s Pool class time-Cube\")\n",
        "plt.xlabel('Data size')\n",
        "plt.ylabel('Time taken in seconds')\n",
        "\n",
        "plt.plot([1,5],[0.0433,0.1483],label='Process class time')\n",
        "plt.plot([1,5],[0.0405,0.0379],label='Pool class time')\n",
        "plt.legend()"
      ],
      "execution_count": null,
      "outputs": [
        {
          "output_type": "execute_result",
          "data": {
            "text/plain": [
              "<matplotlib.legend.Legend at 0x7f05df388cd0>"
            ]
          },
          "metadata": {},
          "execution_count": 35
        },
        {
          "output_type": "display_data",
          "data": {
            "image/png": "[encoded data removed]",
            "text/plain": [
              "<Figure size 432x288 with 1 Axes>"
            ]
          },
          "metadata": {
            "needs_background": "light"
          }
        }
      ]
    },
    {
      "cell_type": "markdown",
      "metadata": {
        "id": "7AOwpkq4nwLH"
      },
      "source": [
        "**Whether a number is odd or even using process class, pool class, multithreading class and sequencial manner and also simulate the time.**\n"
      ]
    },
    {
      "cell_type": "markdown",
      "metadata": {
        "id": "8XnGOv1JoRTZ"
      },
      "source": [
        "**SEQUENCIAL :**"
      ]
    },
    {
      "cell_type": "code",
      "metadata": {
        "colab": {
          "base_uri": "https://localhost:8080/"
        },
        "id": "g44At79hfRj7",
        "outputId": "7ce50a51-93d6-4ec4-9f89-aa41c1fc936a"
      },
      "source": [
        "import multiprocessing as mp \n",
        "import os \n",
        "import time\n",
        "from timeit import default_timer as timer\n",
        "import threading\n",
        " \n",
        "def res(n):\n",
        "  time.sleep(0.05)\n",
        "  m=n*n\n",
        "  if(m%2==0):\n",
        "    print(\"{} squared result is even\".format(n))\n",
        "  else:\n",
        "    print(\"{} squared result is odd\".format(n))\n",
        "\n",
        "if __name__ == \"__main__\": \n",
        "  mylist = [5,8] \n",
        "\n",
        "  #sequentially\n",
        "  print('sequentially')\n",
        "  start=timer()\n",
        "  for i in mylist:\n",
        "    #time.sleep(0.05)\n",
        "    p=i*i\n",
        "    if(p%2==0):\n",
        "      print(\"even\")\n",
        "    else:\n",
        "      print(\"odd\")\n",
        "end1=t\n",
        "end1=timer() - start\n",
        "print('sequential time : ',end1)\n",
        "print('\\n')"
      ],
      "execution_count": null,
      "outputs": [
        {
          "name": "stdout",
          "output_type": "stream",
          "text": [
            "sequentially\n",
            "odd\n",
            "even\n",
            "sequential time :  0.0005658160007442348\n",
            "\n",
            "\n"
          ]
        }
      ]
    },
    {
      "cell_type": "markdown",
      "metadata": {
        "id": "QKlT_3dMogKZ"
      },
      "source": [
        "**PROCESS CLASS :**"
      ]
    },
    {
      "cell_type": "code",
      "metadata": {
        "colab": {
          "base_uri": "https://localhost:8080/"
        },
        "id": "-4qUk3S4gifc",
        "outputId": "d6e48103-bb7e-4d29-859d-cadee39dd982"
      },
      "source": [
        "import multiprocessing as mp \n",
        "import os \n",
        "import time\n",
        "from timeit import default_timer as timer\n",
        "import threading\n",
        "print(\"USING PROCESS \")\n",
        "start=timer()\n",
        "  #USING PROCESS CLASS\n",
        "p1=mp.Process(target=res,args=(5,)) #p1 gives an id ,not execute the function\n",
        "p2=mp.Process(target=res,args=(8,))\n",
        "  #start the process class\n",
        "p1.start()\n",
        "p2.start()\n",
        "  #p1.join() wait until the child process complete\n",
        "  #starting p1 and p2 one after one means we execute both process simultaneously\n",
        "p1.join()\n",
        "p2.join()\n",
        "end1=timer() - start\n",
        "print('sequential time : ',end1)\n",
        "print('\\n')"
      ],
      "execution_count": null,
      "outputs": [
        {
          "name": "stdout",
          "output_type": "stream",
          "text": [
            "USING PROCESS \n",
            "5 squared result is odd\n",
            "8 squared result is even\n",
            "sequential time :  0.08151456999985385\n",
            "\n",
            "\n"
          ]
        }
      ]
    },
    {
      "cell_type": "markdown",
      "metadata": {
        "id": "c88cJEzio4Yb"
      },
      "source": [
        "**POOL CLASS :**"
      ]
    },
    {
      "cell_type": "code",
      "metadata": {
        "colab": {
          "base_uri": "https://localhost:8080/"
        },
        "id": "FWVsMzKKDKT4",
        "outputId": "68e003c9-995a-42b7-ffaf-c00e5f17adac"
      },
      "source": [
        "import multiprocessing as mp \n",
        "import os \n",
        "import time\n",
        "from timeit import default_timer as timer\n",
        "import threading\n",
        "mylist = [5,8] \n",
        "print('USING POOL ')\n",
        "\n",
        "#using POOL Class\n",
        "start=timer()\n",
        "p3=mp.Pool()\n",
        "p3.map(res,mylist)\n",
        "end3=timer() - start\n",
        "print('execution time in pool class',end3)"
      ],
      "execution_count": null,
      "outputs": [
        {
          "output_type": "stream",
          "name": "stdout",
          "text": [
            "USING POOL \n",
            "5 squared result is odd\n",
            "8 squared result is even\n",
            "execution time in pool class 0.036083961000031195\n"
          ]
        }
      ]
    },
    {
      "cell_type": "markdown",
      "metadata": {
        "id": "GnyfhCqPpAsE"
      },
      "source": [
        "**MULTITHREADING CLASS :**"
      ]
    },
    {
      "cell_type": "code",
      "metadata": {
        "colab": {
          "base_uri": "https://localhost:8080/"
        },
        "id": "RWnEpGWqg92u",
        "outputId": "8d67b855-c59e-419b-a7d7-4f76372d6d2b"
      },
      "source": [
        "\n",
        "import multiprocessing as mp \n",
        "import os \n",
        "import time\n",
        "from timeit import default_timer as timer\n",
        "import threading\n",
        "print(\"USING MULTITHREADING \")\n",
        "start=timer()\n",
        "p1=threading.Thread(target=res,args=(4,)) #p1 gives an id ,not execute the function\n",
        "p2=threading.Thread(target=res,args=(5,))\n",
        "p1.start()\n",
        "p2.start()\n",
        "p1.join()\n",
        "p2.join()\n",
        "end4=timer() - start\n",
        "print(\"execution time : \", end4)"
      ],
      "execution_count": null,
      "outputs": [
        {
          "name": "stdout",
          "output_type": "stream",
          "text": [
            "USING MULTITHREADING \n",
            "4 squared result is even\n",
            "5 squared result is odd\n",
            "execution time :  0.06015464899974177\n"
          ]
        }
      ]
    },
    {
      "cell_type": "code",
      "metadata": {
        "colab": {
          "base_uri": "https://localhost:8080/",
          "height": 295
        },
        "id": "I05GzUEFCWvl",
        "outputId": "13b22a86-170e-48c4-ea15-b3567569f40c"
      },
      "source": [
        "import multiprocessing as mp \n",
        "import os \n",
        "import time\n",
        "from timeit import default_timer as timer\n",
        "import matplotlib.pyplot as plt\n",
        "\n",
        "if __name__ == \"__main__\":  \n",
        "    t = ['Sequential', 'Process','Pool','Multithreading']\n",
        "    exe_time = [0.0001,0.0818,0.0909,0.052]\n",
        "    plt.bar(t,exe_time, color ='green')\n",
        "    plt.xlabel(\"Different Functins\")\n",
        "    plt.ylabel(\"time taken\")\n",
        "    plt.title(\"Time Taken by Sequential,Process,Pool and Multithreading\")\n",
        "    plt.show()"
      ],
      "execution_count": null,
      "outputs": [
        {
          "output_type": "display_data",
          "data": {
            "image/png": "[encoded data removed]",
            "text/plain": [
              "<Figure size 432x288 with 1 Axes>"
            ]
          },
          "metadata": {
            "needs_background": "light"
          }
        }
      ]
    },
    {
      "cell_type": "markdown",
      "metadata": {
        "id": "Jutvhq57sp_E"
      },
      "source": [
        "**Q1. write a linear regression supervise machine learning program on the multicore cpu or gpu processor.**"
      ]
    },
    {
      "cell_type": "code",
      "metadata": {
        "colab": {
          "base_uri": "https://localhost:8080/"
        },
        "id": "GFXWzuHcwXVb",
        "outputId": "2d083c5f-67c2-4592-db8f-790d952d27b5"
      },
      "source": [
        "import numpy as np\n",
        "from sklearn.linear_model import LinearRegression\n",
        "X = np.array([[2, 1], [3, 2], [4, 2], [5, 3]])\n",
        "# y = 1 * x_0 + 2 * x_1 + 3\n",
        "y = np.dot(X, np.array([1, 2])) + 3\n",
        "lr = LinearRegression().fit(X, y)\n",
        "lr.predict(np.array([[1, 5]]))"
      ],
      "execution_count": null,
      "outputs": [
        {
          "output_type": "execute_result",
          "data": {
            "text/plain": [
              "array([14.])"
            ]
          },
          "metadata": {},
          "execution_count": 2
        }
      ]
    },
    {
      "cell_type": "markdown",
      "metadata": {
        "id": "eY9UtNmqsyV3"
      },
      "source": [
        "**Q2. How to simulate the linear regression supervise ml algorithm on the multicore cpu or gpu.**"
      ]
    },
    {
      "cell_type": "markdown",
      "metadata": {
        "id": "llf4NXoZs4Ku"
      },
      "source": [
        "\n",
        "**Q3. What are the modules uses to implement the linear regression algorithm on multicore gpu in python libraries.**\n",
        "\n",
        "There are several libraries and corresponding modules that can be used to perform regression depending on a specific problem that one encounters and its complexity in python.\n",
        "\n",
        "**a) scipy.stats() module:**\n",
        "\n",
        "The scipy.stats() module, is the most important one regarding statistical modelling in general. The scipy.stats() module has a submodule completely dedicated to linear regression which goes under the syntax: scipy.stats.linregress() and uses the least square method as a minimisation criteria.SciPy is a Python library that stands for Scientific Python.\n",
        "\n",
        "**b) polyfit module:**\n",
        "\n",
        "The polyfit module is very useful for fitting simple linear regression and polynomial regression of degree n. However, it does not give the user the possibility to use linear regression with multiple predictor variables, namely multivariate regression. So, it is not possible to use np.polyfit() for mixed interaction terms but only for self-interaction terms. In addition, it does not give the user the possibility to directly calculate: the coefficient of determination R² to assess the goodness of the fit, the Pearson correlation coefficient r, the p-value of hypothesis testing, and sample errors associated with the regression coefficients.\n",
        "\n",
        "**c) linregress module:**\n",
        "\n",
        "The linregress module gives additional results of the linear regression to the polyfit module.The only disadvantage of linregress is that does not support multivariate regression. It only supports simple linear regression. In addition, it does not give to the user the option to directly predict new values for features not used in the least square method like the scikit-learn library.\n",
        "\n",
        "**d) statsmodels library/module:**\n",
        "\n",
        "The statsmodels library/module is an extension of the scipy.stats module that is mainly used for fitting a model to a given dataset. This module is probably the most complete one regarding regression in general and also linear regression in particular. This module is quite flexible and it gives the user several options to perform specific statistical calculations."
      ]
    },
    {
      "cell_type": "markdown",
      "metadata": {
        "id": "ttSaRpdMtGQH"
      },
      "source": [
        "**Q4. simulate the logistic regression supervise ml algorithm on the multicore gpu**\n",
        "\n",
        "\n",
        " **Logistic Regression :**\n",
        "\n",
        "It is a very basic yet important classification algorithm in machine learning that uses one or more independent variables to determine an outcome. Logistic regression tries to find a best-fitting relationship between the dependent variable and a set of independent variables. The best-fitting line in this algorithm looks like S-shape as shown in the figure.\n",
        "\n"
      ]
    },
    {
      "cell_type": "code",
      "metadata": {
        "colab": {
          "base_uri": "https://localhost:8080/",
          "height": 573,
          "referenced_widgets": [
            "15a7874bc92e47cb9f64d59b322a56f4",
            "16713c35a76a472fa3f3729669482696",
            "4a59ac4074fb47cfbdd567473494506e",
            "a2aa9411100a41b2a5c28516a7c64b78",
            "4046ebad019642dcb75fdd3da111f3a0",
            "fe1175cd961f4a3eae8c6ee0c0d6555d",
            "25539dbd7da84af7b33eb05c2b49d2d3",
            "cf08761ed47b4aa4af41e305e68fa20b",
            "44f900c8ce394006be0e5cf146ae1b73",
            "eba9e9eb776d4b2eb59711023ed52f4d",
            "0149b60594b549fe8e68d50f2a9d457a",
            "48be868e126241b6a1527d0056b23664",
            "9e8c8fa8cae4441c86c67563b0d8498d",
            "c6751aeb41cc4ae9a92a6e2feb6e5ee8",
            "033030a236e84b1da755451a6032ca3a",
            "cf443924097544b08ecbdc043521201c",
            "5b963020060549e0b986b0c295e7922a",
            "7cee7071d5c2443b80e9f9059fcb7f18",
            "2bfb813dea114fcd9c7db1a655cdc095",
            "80e9f58c596342c385323afb4aec6377",
            "84eb21d3a3494a5bb7114ed4a882193d",
            "2e4032e828864ed2b133121bd4431080",
            "eaf9c0c375f04a89b33b23b6fc61db60",
            "dee13740f7eb4f999c2f82309c342642",
            "2ac373be6c0140caa937f6358952e3c6",
            "d49354b8c9994af29a653b9defbfa301",
            "a771f288b2e04ca1950b55b56e5bf15f",
            "8d746b2b10e24c30975f2693c9e925f8",
            "ec3366cad62741bfa90a1775a15f7ea8",
            "afaf227a03cf467ca6cc431df24620f1",
            "13fa16725dfc43798182b4f69fcf896b",
            "203478e03e6c4f8ead06a1242952d969",
            "1cb5278906ee4b808bc957308f2e2f96",
            "3c24c3b3573341e485e1bd5ecdef3f01"
          ]
        },
        "id": "7GOf28FRt_Py",
        "outputId": "0fd090ed-12f9-407a-c044-d359f290f556"
      },
      "source": [
        " import torch\n",
        "import torch.nn as nn\n",
        "import torchvision.transforms as transforms\n",
        "import torchvision.datasets as dsets\n",
        "\n",
        "'''\n",
        "STEP 1: LOADING DATASET\n",
        "'''\n",
        "\n",
        "train_dataset = dsets.MNIST(root='./data', \n",
        "                            train=True, \n",
        "                            transform=transforms.ToTensor(),\n",
        "                            download=True)\n",
        "\n",
        "test_dataset = dsets.MNIST(root='./data', \n",
        "                           train=False, \n",
        "                           transform=transforms.ToTensor())\n",
        "\n",
        "'''\n",
        "STEP 2: MAKING DATASET ITERABLE\n",
        "'''\n",
        "\n",
        "batch_size = 100\n",
        "n_iters = 3000\n",
        "num_epochs = n_iters / (len(train_dataset) / batch_size)\n",
        "num_epochs = int(num_epochs)\n",
        "\n",
        "train_loader = torch.utils.data.DataLoader(dataset=train_dataset, \n",
        "                                           batch_size=batch_size, \n",
        "                                           shuffle=True)\n",
        "\n",
        "test_loader = torch.utils.data.DataLoader(dataset=test_dataset, \n",
        "                                          batch_size=batch_size, \n",
        "                                          shuffle=False)\n",
        "\n",
        "'''\n",
        "STEP 3: CREATE MODEL CLASS\n",
        "'''\n",
        "class LogisticRegressionModel(nn.Module):\n",
        "    def __init__(self, input_size, num_classes):\n",
        "        super(LogisticRegressionModel, self).__init__()\n",
        "        self.linear = nn.Linear(input_dim, output_dim)\n",
        "\n",
        "    def forward(self, x):\n",
        "        out = self.linear(x)\n",
        "        return out\n",
        "\n",
        "'''\n",
        "STEP 4: INSTANTIATE MODEL CLASS\n",
        "'''\n",
        "input_dim = 28*28\n",
        "output_dim = 10\n",
        "\n",
        "model = LogisticRegressionModel(input_dim, output_dim)\n",
        "\n",
        "'''\n",
        "STEP 5: INSTANTIATE LOSS CLASS\n",
        "'''\n",
        "criterion = nn.CrossEntropyLoss()\n",
        "\n",
        "\n",
        "'''\n",
        "STEP 6: INSTANTIATE OPTIMIZER CLASS\n",
        "'''\n",
        "learning_rate = 0.001\n",
        "\n",
        "optimizer = torch.optim.SGD(model.parameters(), lr=learning_rate)\n",
        "\n",
        "'''\n",
        "STEP 7: TRAIN THE MODEL\n",
        "'''\n",
        "iter = 0\n",
        "for epoch in range(num_epochs):\n",
        "    for i, (images, labels) in enumerate(train_loader):\n",
        "        # Load images as Variable\n",
        "        images = images.view(-1, 28*28).requires_grad_()\n",
        "        labels = labels\n",
        "\n",
        "        # Clear gradients w.r.t. parameters\n",
        "        optimizer.zero_grad()\n",
        "\n",
        "        # Forward pass to get output/logits\n",
        "        # 100 x 10\n",
        "        outputs = model(images)\n",
        "\n",
        "        # Calculate Loss: softmax --> cross entropy loss\n",
        "        loss = criterion(outputs, labels)\n",
        "\n",
        "        # Getting gradients w.r.t. parameters\n",
        "        loss.backward()\n",
        "\n",
        "        # Updating parameters\n",
        "        optimizer.step()\n",
        "\n",
        "        iter += 1\n",
        "\n",
        "        if iter % 500 == 0:\n",
        "            # Calculate Accuracy         \n",
        "            correct = 0\n",
        "            total = 0\n",
        "            # Iterate through test dataset\n",
        "            for images, labels in test_loader:\n",
        "                # Load images to a Torch Variable\n",
        "                images = images.view(-1, 28*28).requires_grad_()\n",
        "\n",
        "                # Forward pass only to get logits/output\n",
        "                outputs = model(images)\n",
        "\n",
        "                # Get predictions from the maximum value\n",
        "                # 100 x 1\n",
        "                _, predicted = torch.max(outputs.data, 1)\n",
        "\n",
        "                # Total number of labels\n",
        "                total += labels.size(0)\n",
        "\n",
        "                # Total correct predictions\n",
        "                correct += (predicted == labels).sum()\n",
        "\n",
        "            accuracy = 100 * correct.item() / total\n",
        "\n",
        "            # Print Loss\n",
        "            print('Iteration: {}. Loss: {}. Accuracy: {}'.format(iter, loss.item(), accuracy))"
      ],
      "execution_count": null,
      "outputs": [
        {
          "output_type": "stream",
          "name": "stdout",
          "text": [
            "Downloading http://yann.lecun.com/exdb/mnist/train-images-idx3-ubyte.gz\n",
            "Downloading http://yann.lecun.com/exdb/mnist/train-images-idx3-ubyte.gz to ./data/MNIST/raw/train-images-idx3-ubyte.gz\n"
          ]
        },
        {
          "output_type": "display_data",
          "data": {
            "application/vnd.jupyter.widget-view+json": {
              "model_id": "15a7874bc92e47cb9f64d59b322a56f4",
              "version_minor": 0,
              "version_major": 2
            },
            "text/plain": [
              "  0%|          | 0/9912422 [00:00<?, ?it/s]"
            ]
          },
          "metadata": {}
        },
        {
          "output_type": "stream",
          "name": "stdout",
          "text": [
            "Extracting ./data/MNIST/raw/train-images-idx3-ubyte.gz to ./data/MNIST/raw\n",
            "\n",
            "Downloading http://yann.lecun.com/exdb/mnist/train-labels-idx1-ubyte.gz\n",
            "Downloading http://yann.lecun.com/exdb/mnist/train-labels-idx1-ubyte.gz to ./data/MNIST/raw/train-labels-idx1-ubyte.gz\n"
          ]
        },
        {
          "output_type": "display_data",
          "data": {
            "application/vnd.jupyter.widget-view+json": {
              "model_id": "48be868e126241b6a1527d0056b23664",
              "version_minor": 0,
              "version_major": 2
            },
            "text/plain": [
              "  0%|          | 0/28881 [00:00<?, ?it/s]"
            ]
          },
          "metadata": {}
        },
        {
          "output_type": "stream",
          "name": "stdout",
          "text": [
            "Extracting ./data/MNIST/raw/train-labels-idx1-ubyte.gz to ./data/MNIST/raw\n",
            "\n",
            "Downloading http://yann.lecun.com/exdb/mnist/t10k-images-idx3-ubyte.gz\n",
            "Downloading http://yann.lecun.com/exdb/mnist/t10k-images-idx3-ubyte.gz to ./data/MNIST/raw/t10k-images-idx3-ubyte.gz\n"
          ]
        },
        {
          "output_type": "display_data",
          "data": {
            "application/vnd.jupyter.widget-view+json": {
              "model_id": "eaf9c0c375f04a89b33b23b6fc61db60",
              "version_minor": 0,
              "version_major": 2
            },
            "text/plain": [
              "  0%|          | 0/1648877 [00:00<?, ?it/s]"
            ]
          },
          "metadata": {}
        },
        {
          "output_type": "stream",
          "name": "stdout",
          "text": [
            "Extracting ./data/MNIST/raw/t10k-images-idx3-ubyte.gz to ./data/MNIST/raw\n",
            "\n",
            "Downloading http://yann.lecun.com/exdb/mnist/t10k-labels-idx1-ubyte.gz\n",
            "Downloading http://yann.lecun.com/exdb/mnist/t10k-labels-idx1-ubyte.gz to ./data/MNIST/raw/t10k-labels-idx1-ubyte.gz\n"
          ]
        },
        {
          "output_type": "display_data",
          "data": {
            "application/vnd.jupyter.widget-view+json": {
              "model_id": "3c24c3b3573341e485e1bd5ecdef3f01",
              "version_minor": 0,
              "version_major": 2
            },
            "text/plain": [
              "  0%|          | 0/4542 [00:00<?, ?it/s]"
            ]
          },
          "metadata": {}
        },
        {
          "output_type": "stream",
          "name": "stdout",
          "text": [
            "Extracting ./data/MNIST/raw/t10k-labels-idx1-ubyte.gz to ./data/MNIST/raw\n",
            "\n"
          ]
        },
        {
          "output_type": "stream",
          "name": "stderr",
          "text": [
            "/usr/local/lib/python3.7/dist-packages/torchvision/datasets/mnist.py:498: UserWarning: The given NumPy array is not writeable, and PyTorch does not support non-writeable tensors. This means you can write to the underlying (supposedly non-writeable) NumPy array using the tensor. You may want to copy the array to protect its data or make it writeable before converting it to a tensor. This type of warning will be suppressed for the rest of this program. (Triggered internally at  /pytorch/torch/csrc/utils/tensor_numpy.cpp:180.)\n",
            "  return torch.from_numpy(parsed.astype(m[2], copy=False)).view(*s)\n"
          ]
        },
        {
          "output_type": "stream",
          "name": "stdout",
          "text": [
            "Iteration: 500. Loss: 1.8653919696807861. Accuracy: 64.31\n",
            "Iteration: 1000. Loss: 1.654077410697937. Accuracy: 75.42\n",
            "Iteration: 1500. Loss: 1.3524184226989746. Accuracy: 78.99\n",
            "Iteration: 2000. Loss: 1.117624044418335. Accuracy: 80.78\n",
            "Iteration: 2500. Loss: 1.1098549365997314. Accuracy: 82.02\n",
            "Iteration: 3000. Loss: 1.1178042888641357. Accuracy: 82.93\n"
          ]
        }
      ]
    },
    {
      "cell_type": "markdown",
      "metadata": {
        "id": "7uvIhg38thJL"
      },
      "source": [
        "**Q5. what are the differences bwetween the classification and regression in multiprocessing**\n",
        "\n",
        "**Ans:  Classification vs Regression**\n",
        "\n",
        "Classification predictive modeling problems are different from regression predictive modeling problems.\n",
        "\n",
        "* Classification is the task of predicting a discrete class label.\n",
        "* Regression is the task of predicting a continuous quantity.\n",
        "\n",
        "There is some overlap between the algorithms for classification and regression; for example:\n",
        "\n",
        "* A classification algorithm may predict a continuous value, but the continuous\n",
        "value is in the form of a probability for a class label.\n",
        "\n",
        "* A regression algorithm may predict a discrete value, but the discrete value in the form of an integer quantity.\n",
        "\n",
        "Some algorithms can be used for both classification and regression with small modifications, such as decision trees and artificial neural networks. Some algorithms cannot, or cannot easily be used for both problem types, such as linear regression for regression predictive modeling and logistic regression for classification predictive modeling.\n",
        "\n",
        "Importantly, the way that we evaluate classification and regression predictions varies and does not overlap, for example:\n",
        "\n",
        "* Classification predictions can be evaluated using accuracy, whereas regression predictions cannot.\n",
        "\n",
        "* Regression predictions can be evaluated using root mean squared error, whereas classification predictions cannot."
      ]
    },
    {
      "cell_type": "markdown",
      "metadata": {
        "id": "wN_XWnNMXC3k"
      },
      "source": [
        "## **DATE : 13-10-2021**"
      ]
    },
    {
      "cell_type": "code",
      "metadata": {
        "colab": {
          "base_uri": "https://localhost:8080/"
        },
        "id": "OxggcZfAYXRA",
        "outputId": "63a8f424-60f6-42be-e8ba-e8b1ac273691"
      },
      "source": [
        "import multiprocessing as mp \n",
        "import os \n",
        "import time\n",
        "from timeit import default_timer as timer\n",
        "import threading\n",
        "print(\"USING MULTITHREADING \")\n",
        "def res(n):\n",
        "  #time.sleep(0.05)\n",
        "  m=n*n\n",
        "  if(m%2==0):\n",
        "    print(\"{} squared result is even\".format(n))\n",
        "  else:\n",
        "    print(\"{} squared result is odd\".format(n))\n",
        "start=timer()\n",
        "p1=threading.Thread(target=res,args=(4,)) #p1 gives an id ,not execute the function\n",
        "p2=threading.Thread(target=res,args=(5,))\n",
        "p1.start()\n",
        "p2.start()\n",
        "p1.join()\n",
        "p2.join()\n",
        "end4=timer() - start\n",
        "print(\"execution time : \", end4)"
      ],
      "execution_count": null,
      "outputs": [
        {
          "output_type": "stream",
          "name": "stdout",
          "text": [
            "USING MULTITHREADING \n",
            "4 squared result is even\n",
            "5 squared result is odd\n",
            "execution time :  0.0036670049999543153\n"
          ]
        }
      ]
    },
    {
      "cell_type": "code",
      "metadata": {
        "colab": {
          "base_uri": "https://localhost:8080/",
          "height": 312
        },
        "id": "mAUePb2om2LH",
        "outputId": "9fd1c257-15da-480b-91af-fc313b332754"
      },
      "source": [
        "import matplotlib.pyplot as plt\n",
        "plt.title(\"Pool vs Process vs Thread vs Sequential\")\n",
        "plt.ylabel('Time in second')\n",
        "plt.xlabel('Data length')\n",
        "\n",
        "data_size=[2,4,6]\n",
        "plt.plot(data_size,[0.1,0.2,0.3],label=\"Sequential Time\")\n",
        "plt.plot(data_size,[0.09,0.1,0.12],label=\"Process Time\")\n",
        "plt.plot(data_size,[0.082,0.11,0.20],label=\"Pool time\")\n",
        "plt.plot(data_size,[0.052,0.058,0.06],label=\"Multithreading Time\")\n",
        "plt.legend()"
      ],
      "execution_count": null,
      "outputs": [
        {
          "output_type": "execute_result",
          "data": {
            "text/plain": [
              "<matplotlib.legend.Legend at 0x7f66941668d0>"
            ]
          },
          "metadata": {},
          "execution_count": 10
        },
        {
          "output_type": "display_data",
          "data": {
            "image/png": "[encoded data removed]",
            "text/plain": [
              "<Figure size 432x288 with 1 Axes>"
            ]
          },
          "metadata": {
            "needs_background": "light"
          }
        }
      ]
    },
    {
      "cell_type": "code",
      "metadata": {
        "colab": {
          "base_uri": "https://localhost:8080/",
          "height": 312
        },
        "id": "hT_s8BsVh6cq",
        "outputId": "d0d6bf37-cdb8-47a8-b2a4-2d7f218bbcbf"
      },
      "source": [
        "import matplotlib.pyplot as plt\n",
        "import numpy as np\n",
        "plt.title(\"Speed Up - Sequential vs Pool\")\n",
        "plt.xlabel('SpeedUp')\n",
        "plt.ylabel('Data length')\n",
        "plt.plot([1.11,2,2.5],[2,4,6],label='SpeedUp')\n",
        "plt.legend()"
      ],
      "execution_count": null,
      "outputs": [
        {
          "output_type": "execute_result",
          "data": {
            "text/plain": [
              "<matplotlib.legend.Legend at 0x7f9c960bedd0>"
            ]
          },
          "metadata": {},
          "execution_count": 6
        },
        {
          "output_type": "display_data",
          "data": {
            "image/png": "[encoded data removed]",
            "text/plain": [
              "<Figure size 432x288 with 1 Axes>"
            ]
          },
          "metadata": {
            "needs_background": "light"
          }
        }
      ]
    },
    {
      "cell_type": "code",
      "metadata": {
        "colab": {
          "base_uri": "https://localhost:8080/",
          "height": 312
        },
        "id": "47oCHczckO2n",
        "outputId": "12535757-aa8e-4b85-d554-23e4947fb07f"
      },
      "source": [
        "import matplotlib.pyplot as plt\n",
        "import numpy as np\n",
        "plt.title(\"Speed Up - Sequential vs Process\")\n",
        "plt.xlabel('SpeedUp')\n",
        "plt.ylabel('Data length')\n",
        "plt.plot([1.22,2,1.5],[2,4,6],label='SpeedUp')\n",
        "plt.legend()"
      ],
      "execution_count": null,
      "outputs": [
        {
          "output_type": "execute_result",
          "data": {
            "text/plain": [
              "<matplotlib.legend.Legend at 0x7f9c95b61ad0>"
            ]
          },
          "metadata": {},
          "execution_count": 7
        },
        {
          "output_type": "display_data",
          "data": {
            "image/png": "[encoded data removed]",
            "text/plain": [
              "<Figure size 432x288 with 1 Axes>"
            ]
          },
          "metadata": {
            "needs_background": "light"
          }
        }
      ]
    },
    {
      "cell_type": "code",
      "metadata": {
        "colab": {
          "base_uri": "https://localhost:8080/",
          "height": 312
        },
        "id": "1L1v-jvEjHGC",
        "outputId": "62c97c76-e386-4c98-e58b-8a4d99d3b386"
      },
      "source": [
        "import matplotlib.pyplot as plt\n",
        "import numpy as np\n",
        "plt.title(\"Speed Up - Sequential vs Multithreadig\")\n",
        "plt.xlabel('SpeedUp')\n",
        "plt.ylabel('Data length')\n",
        "plt.plot([2,3.5,5],[2,4,6],label='SpeedUp')\n",
        "plt.legend()"
      ],
      "execution_count": null,
      "outputs": [
        {
          "output_type": "execute_result",
          "data": {
            "text/plain": [
              "<matplotlib.legend.Legend at 0x7f669414ef10>"
            ]
          },
          "metadata": {},
          "execution_count": 11
        },
        {
          "output_type": "display_data",
          "data": {
            "image/png": "[encoded data removed]",
            "text/plain": [
              "<Figure size 432x288 with 1 Axes>"
            ]
          },
          "metadata": {
            "needs_background": "light"
          }
        }
      ]
    },
    {
      "cell_type": "markdown",
      "metadata": {
        "id": "9ybJG8NS_PPF"
      },
      "source": [
        "# **Assignment - 7**"
      ]
    },
    {
      "cell_type": "markdown",
      "metadata": {
        "id": "yLRveXZC_YJa"
      },
      "source": [
        "**Q1. what is the reason to use sleep function with multiprocessing module in py. explain with example**\n",
        "\n",
        "**Ans : sleep(sec) :-** This method is used to halt the program execution for the time specified in the arguments.\n",
        "\n",
        "* The reason for this is that when the event is set, the program will break out of the loop immediately. With time. sleep() , your code will need to wait for the Python sleep() call to finish before the thread can exit.\n",
        "\n",
        "* The sleep() function suspends execution of the current thread for a given number of seconds.\n",
        "\n",
        "* Example : Python sleep()\n",
        "\n",
        "\n"
      ]
    },
    {
      "cell_type": "markdown",
      "metadata": {
        "id": "6QbnUb3DfKU7"
      },
      "source": [
        "**Sleep function example :**"
      ]
    },
    {
      "cell_type": "code",
      "metadata": {
        "colab": {
          "base_uri": "https://localhost:8080/"
        },
        "id": "1agOzl9oc6ZU",
        "outputId": "fdbb9609-0fa9-486c-be53-4457d1b98eb7"
      },
      "source": [
        "# Python code to demonstrate the working of\n",
        "# sleep()\n",
        "\n",
        "# importing \"time\" module for time operations\n",
        "import time\n",
        "\n",
        "# using ctime() to show present time\n",
        "print (\"Start Execution : \",end=\"\")\n",
        "print (time.ctime())\n",
        "\n",
        "# using sleep() to hault execution\n",
        "time.sleep(4)\n",
        "\n",
        "# using ctime() to show present time\n",
        "print (\"Stop Execution : \",end=\"\")\n",
        "print (time.ctime())\n"
      ],
      "execution_count": null,
      "outputs": [
        {
          "output_type": "stream",
          "name": "stdout",
          "text": [
            "Start Execution : Thu Oct 14 10:28:24 2021\n",
            "Stop Execution : Thu Oct 14 10:28:28 2021\n"
          ]
        }
      ]
    },
    {
      "cell_type": "code",
      "metadata": {
        "colab": {
          "base_uri": "https://localhost:8080/"
        },
        "id": "Dr2h-lhtffih",
        "outputId": "f1ef4f15-416b-45de-f076-1f685ded08f5"
      },
      "source": [
        "import time\n",
        "print(\"Printed immediately.\")\n",
        "time.sleep(2.6)\n",
        "print(\"Printed after 2.6 seconds.\")"
      ],
      "execution_count": null,
      "outputs": [
        {
          "output_type": "stream",
          "name": "stdout",
          "text": [
            "Printed immediately.\n",
            "Printed after 2.6 seconds.\n"
          ]
        }
      ]
    },
    {
      "cell_type": "markdown",
      "metadata": {
        "id": "jMU8iFfgloop"
      },
      "source": [
        "# **DATE : 20-10-2021**"
      ]
    },
    {
      "cell_type": "markdown",
      "metadata": {
        "id": "rF4XKEb6lsHq"
      },
      "source": [
        " **Object : Write a python code to fetch the numerical data set as a list data structure which is stored in the google drive or github.**\n"
      ]
    },
    {
      "cell_type": "code",
      "metadata": {
        "colab": {
          "base_uri": "https://localhost:8080/"
        },
        "id": "Uxq_g0Vw59d5",
        "outputId": "1e551b8f-367e-4d1c-fe47-b2fc907a5ba2"
      },
      "source": [
        "from google.colab import drive\n",
        "drive.mount(\"/content/drive\")\n"
      ],
      "execution_count": null,
      "outputs": [
        {
          "output_type": "stream",
          "name": "stdout",
          "text": [
            "Mounted at /content/drive\n"
          ]
        }
      ]
    }
  ]
}